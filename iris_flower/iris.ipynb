{
 "cells": [
  {
   "cell_type": "markdown",
   "id": "932ade40-81f5-4a09-9be2-d3d723b08c8c",
   "metadata": {},
   "source": [
    "# **🌺The Iris Flower Problem**\n",
    "The problem is to predict the specie of a new flower measurement."
   ]
  },
  {
   "cell_type": "code",
   "execution_count": 30,
   "id": "c5c05033-e9c3-4325-bc69-4ea03acc6aab",
   "metadata": {
    "tags": []
   },
   "outputs": [
    {
     "name": "stdout",
     "output_type": "stream",
     "text": [
      "\n",
      "💯 😊 \u001b[034mSetup successfully loaded to memory.\u001b[om 💹\n"
     ]
    }
   ],
   "source": [
    "import os, sys\n",
    "import numpy as np\n",
    "import pandas as pd\n",
    "import matplotlib.pyplot as plt\n",
    "%matplotlib inline\n",
    "import seaborn as sns\n",
    "import plotly.express as px\n",
    "\n",
    "import sklearn\n",
    "from sklearn.model_selection import train_test_split\n",
    "from sklearn.neighbors import KNeighborsClassifier\n",
    "from sklearn.pipeline import Pipeline, make_pipeline\n",
    "from sklearn.preprocessing import StandardScaler\n",
    "from sklearn.impute import SimpleImputer\n",
    "from sklearn.svm import SVC\n",
    "from sklearn.metrics import accuracy_score\n",
    "\n",
    "import warnings\n",
    "\n",
    "\n",
    "parent_dir = os.path.abspath(\"..\")\n",
    "if parent_dir not in sys.path:\n",
    "    sys.path.append(parent_dir)\n",
    "    \n",
    "from _custom_func import load_data, extract_data\n",
    "from iris_module import species_map\n",
    "\n",
    "sns.set_style(\"darkgrid\")\n",
    "pd.set_option(\"display.max_columns\", None)\n",
    "sklearn.set_config(display=\"diagram\")\n",
    "\n",
    "\n",
    "warnings.filterwarnings(\"ignore\")\n",
    "\n",
    "extract_data(\"../datasets/IRIS.zip\")\n",
    "\n",
    "print(\"\\n💯 😊 \\033[034mSetup successfully loaded to memory.\\033[om 💹\")"
   ]
  },
  {
   "cell_type": "markdown",
   "id": "51f9b2f5-0b4d-4dd6-9ed7-21255bb5346e",
   "metadata": {},
   "source": [
    "## **Load the data**"
   ]
  },
  {
   "cell_type": "code",
   "execution_count": 2,
   "id": "7f7053bb-84e4-4239-8432-97b523e0ec82",
   "metadata": {
    "tags": []
   },
   "outputs": [
    {
     "name": "stdout",
     "output_type": "stream",
     "text": [
      "\n",
      "Data loaded successfully . . .\n"
     ]
    },
    {
     "data": {
      "text/html": [
       "<div>\n",
       "<style scoped>\n",
       "    .dataframe tbody tr th:only-of-type {\n",
       "        vertical-align: middle;\n",
       "    }\n",
       "\n",
       "    .dataframe tbody tr th {\n",
       "        vertical-align: top;\n",
       "    }\n",
       "\n",
       "    .dataframe thead th {\n",
       "        text-align: right;\n",
       "    }\n",
       "</style>\n",
       "<table border=\"1\" class=\"dataframe\">\n",
       "  <thead>\n",
       "    <tr style=\"text-align: right;\">\n",
       "      <th></th>\n",
       "      <th>sepal_length</th>\n",
       "      <th>sepal_width</th>\n",
       "      <th>petal_length</th>\n",
       "      <th>petal_width</th>\n",
       "      <th>species</th>\n",
       "    </tr>\n",
       "  </thead>\n",
       "  <tbody>\n",
       "    <tr>\n",
       "      <th>0</th>\n",
       "      <td>5.1</td>\n",
       "      <td>3.5</td>\n",
       "      <td>1.4</td>\n",
       "      <td>0.2</td>\n",
       "      <td>Iris-setosa</td>\n",
       "    </tr>\n",
       "    <tr>\n",
       "      <th>1</th>\n",
       "      <td>4.9</td>\n",
       "      <td>3.0</td>\n",
       "      <td>1.4</td>\n",
       "      <td>0.2</td>\n",
       "      <td>Iris-setosa</td>\n",
       "    </tr>\n",
       "    <tr>\n",
       "      <th>2</th>\n",
       "      <td>4.7</td>\n",
       "      <td>3.2</td>\n",
       "      <td>1.3</td>\n",
       "      <td>0.2</td>\n",
       "      <td>Iris-setosa</td>\n",
       "    </tr>\n",
       "    <tr>\n",
       "      <th>3</th>\n",
       "      <td>4.6</td>\n",
       "      <td>3.1</td>\n",
       "      <td>1.5</td>\n",
       "      <td>0.2</td>\n",
       "      <td>Iris-setosa</td>\n",
       "    </tr>\n",
       "    <tr>\n",
       "      <th>4</th>\n",
       "      <td>5.0</td>\n",
       "      <td>3.6</td>\n",
       "      <td>1.4</td>\n",
       "      <td>0.2</td>\n",
       "      <td>Iris-setosa</td>\n",
       "    </tr>\n",
       "  </tbody>\n",
       "</table>\n",
       "</div>"
      ],
      "text/plain": [
       "   sepal_length  sepal_width  petal_length  petal_width      species\n",
       "0           5.1          3.5           1.4          0.2  Iris-setosa\n",
       "1           4.9          3.0           1.4          0.2  Iris-setosa\n",
       "2           4.7          3.2           1.3          0.2  Iris-setosa\n",
       "3           4.6          3.1           1.5          0.2  Iris-setosa\n",
       "4           5.0          3.6           1.4          0.2  Iris-setosa"
      ]
     },
     "execution_count": 2,
     "metadata": {},
     "output_type": "execute_result"
    }
   ],
   "source": [
    "df = load_data(\"./data/IRIS.csv\")\n",
    "df.head()"
   ]
  },
  {
   "cell_type": "code",
   "execution_count": 3,
   "id": "12932392-1f5a-42c9-8386-c94b85aa37ef",
   "metadata": {
    "tags": []
   },
   "outputs": [],
   "source": [
    "df[\"target\"] = df.species.map(species_map)"
   ]
  },
  {
   "cell_type": "code",
   "execution_count": 4,
   "id": "0dc0d4a8-41f2-4ba9-bcb8-a7d2cceb2691",
   "metadata": {
    "tags": []
   },
   "outputs": [
    {
     "data": {
      "text/html": [
       "<div>\n",
       "<style scoped>\n",
       "    .dataframe tbody tr th:only-of-type {\n",
       "        vertical-align: middle;\n",
       "    }\n",
       "\n",
       "    .dataframe tbody tr th {\n",
       "        vertical-align: top;\n",
       "    }\n",
       "\n",
       "    .dataframe thead th {\n",
       "        text-align: right;\n",
       "    }\n",
       "</style>\n",
       "<table border=\"1\" class=\"dataframe\">\n",
       "  <thead>\n",
       "    <tr style=\"text-align: right;\">\n",
       "      <th></th>\n",
       "      <th>sepal_length</th>\n",
       "      <th>sepal_width</th>\n",
       "      <th>petal_length</th>\n",
       "      <th>petal_width</th>\n",
       "      <th>target</th>\n",
       "    </tr>\n",
       "  </thead>\n",
       "  <tbody>\n",
       "    <tr>\n",
       "      <th>count</th>\n",
       "      <td>150.000000</td>\n",
       "      <td>150.000000</td>\n",
       "      <td>150.000000</td>\n",
       "      <td>150.000000</td>\n",
       "      <td>150.000000</td>\n",
       "    </tr>\n",
       "    <tr>\n",
       "      <th>mean</th>\n",
       "      <td>5.843333</td>\n",
       "      <td>3.054000</td>\n",
       "      <td>3.758667</td>\n",
       "      <td>1.198667</td>\n",
       "      <td>1.000000</td>\n",
       "    </tr>\n",
       "    <tr>\n",
       "      <th>std</th>\n",
       "      <td>0.828066</td>\n",
       "      <td>0.433594</td>\n",
       "      <td>1.764420</td>\n",
       "      <td>0.763161</td>\n",
       "      <td>0.819232</td>\n",
       "    </tr>\n",
       "    <tr>\n",
       "      <th>min</th>\n",
       "      <td>4.300000</td>\n",
       "      <td>2.000000</td>\n",
       "      <td>1.000000</td>\n",
       "      <td>0.100000</td>\n",
       "      <td>0.000000</td>\n",
       "    </tr>\n",
       "    <tr>\n",
       "      <th>25%</th>\n",
       "      <td>5.100000</td>\n",
       "      <td>2.800000</td>\n",
       "      <td>1.600000</td>\n",
       "      <td>0.300000</td>\n",
       "      <td>0.000000</td>\n",
       "    </tr>\n",
       "    <tr>\n",
       "      <th>50%</th>\n",
       "      <td>5.800000</td>\n",
       "      <td>3.000000</td>\n",
       "      <td>4.350000</td>\n",
       "      <td>1.300000</td>\n",
       "      <td>1.000000</td>\n",
       "    </tr>\n",
       "    <tr>\n",
       "      <th>75%</th>\n",
       "      <td>6.400000</td>\n",
       "      <td>3.300000</td>\n",
       "      <td>5.100000</td>\n",
       "      <td>1.800000</td>\n",
       "      <td>2.000000</td>\n",
       "    </tr>\n",
       "    <tr>\n",
       "      <th>max</th>\n",
       "      <td>7.900000</td>\n",
       "      <td>4.400000</td>\n",
       "      <td>6.900000</td>\n",
       "      <td>2.500000</td>\n",
       "      <td>2.000000</td>\n",
       "    </tr>\n",
       "  </tbody>\n",
       "</table>\n",
       "</div>"
      ],
      "text/plain": [
       "       sepal_length  sepal_width  petal_length  petal_width      target\n",
       "count    150.000000   150.000000    150.000000   150.000000  150.000000\n",
       "mean       5.843333     3.054000      3.758667     1.198667    1.000000\n",
       "std        0.828066     0.433594      1.764420     0.763161    0.819232\n",
       "min        4.300000     2.000000      1.000000     0.100000    0.000000\n",
       "25%        5.100000     2.800000      1.600000     0.300000    0.000000\n",
       "50%        5.800000     3.000000      4.350000     1.300000    1.000000\n",
       "75%        6.400000     3.300000      5.100000     1.800000    2.000000\n",
       "max        7.900000     4.400000      6.900000     2.500000    2.000000"
      ]
     },
     "execution_count": 4,
     "metadata": {},
     "output_type": "execute_result"
    }
   ],
   "source": [
    "df.describe()"
   ]
  },
  {
   "cell_type": "code",
   "execution_count": 5,
   "id": "bfa2a951-f299-436b-8cd5-66bd55c527f9",
   "metadata": {
    "tags": []
   },
   "outputs": [
    {
     "data": {
      "image/png": "[encoded data removed]",
      "text/plain": [
       "<Figure size 640x480 with 4 Axes>"
      ]
     },
     "metadata": {},
     "output_type": "display_data"
    }
   ],
   "source": [
    "(ax0, ax1) = df[[\"sepal_length\", \"sepal_width\", \"petal_length\", \"petal_width\"]].hist(bins=35, color=\"teal\")"
   ]
  },
  {
   "cell_type": "markdown",
   "id": "66ab633e-cfee-49e9-bb1d-9f98ba5b08a3",
   "metadata": {},
   "source": [
    "From the plots and tables above, some correlations between lengths and widths are revealed. A scatter plot will show this better. To plot a scatter plot, the `species` column needs to be mapped into an integer."
   ]
  },
  {
   "cell_type": "code",
   "execution_count": 6,
   "id": "6594158c-be09-4c9c-9fc8-633140163184",
   "metadata": {
    "tags": []
   },
   "outputs": [
    {
     "data": {
      "text/plain": [
       "<Axes: title={'center': 'Scatter plot of Sepal length and Sepal width'}, xlabel='petal_length', ylabel='petal_width'>"
      ]
     },
     "execution_count": 6,
     "metadata": {},
     "output_type": "execute_result"
    },
    {
     "data": {
      "image/png": "[encoded data removed]",
      "text/plain": [
       "<Figure size 1200x400 with 4 Axes>"
      ]
     },
     "metadata": {},
     "output_type": "display_data"
    }
   ],
   "source": [
    "fig, (ax1, ax2) = plt.subplots(1, 2, figsize=(12, 4))\n",
    "\n",
    "df.plot(ax=ax1, title=\"Scatter plot of Sepal length and Sepal width\",\n",
    "        kind=\"scatter\",x=\"sepal_length\", y=\"sepal_width\", c=df[\"target\"], cmap=\"RdBu\", s=40)\n",
    "\n",
    "df.plot(ax=ax2, title=\"Scatter plot of Sepal length and Sepal width\",\n",
    "        kind=\"scatter\",x=\"petal_length\", y=\"petal_width\", c=df[\"target\"], cmap=\"RdBu\", s=40)"
   ]
  },
  {
   "cell_type": "markdown",
   "id": "9e012071-7f3f-4ab5-b993-e88d6050e3e1",
   "metadata": {},
   "source": [
    "From the two charts, there is a positive correlation between the `Sepal length` and `Sepal width` for a given type of specie. The same also goes for `Petal length` and `Petal width`. Also, there are clear boundries between the species as seen from the graphs, hence, a good classifier will predict the specie of an unknown class with a high accuracy."
   ]
  },
  {
   "cell_type": "markdown",
   "id": "3ffb7f38-df1d-4faa-aca5-a4f679049750",
   "metadata": {},
   "source": [
    "### **Prepare data for machine learning**"
   ]
  },
  {
   "cell_type": "markdown",
   "id": "0e1a763e-a258-453a-a9c8-53d6dba8d56a",
   "metadata": {
    "tags": []
   },
   "source": [
    "The data contains o missinng features, but future measurements may contain missing data. Also, all features are floating point numbers and can be scaled using Standard Scaler."
   ]
  },
  {
   "cell_type": "code",
   "execution_count": 7,
   "id": "5c432d5b-a23e-4eea-acbc-7f4dccd86882",
   "metadata": {
    "tags": []
   },
   "outputs": [],
   "source": [
    "y = df[\"target\"]\n",
    "X = df.drop([\"species\", \"target\"], axis=1)\n",
    "X_train, X_test, y_train, y_test = train_test_split(X, y, test_size=0.1, random_state=42)\n",
    "X_train, X_val, y_train, y_val = train_test_split(X_train, y_train, test_size=0.1, random_state=42)\n",
    "\n",
    "preprocessing = Pipeline([\n",
    "    (\"imputer\", SimpleImputer(strategy=\"mean\")),\n",
    "    (\"scale\", StandardScaler())\n",
    "])"
   ]
  },
  {
   "cell_type": "markdown",
   "id": "12a5ae55-7234-4580-b1d7-990a8ffe55e3",
   "metadata": {
    "tags": []
   },
   "source": [
    "## **Select and train a model**\n",
    "- **K Nearest Neighboor**: For  this, a model is trained for each value of $n$ from $n = 3$ to $n = 30$. The best value of $n$ that gives the best training and validation acuracy is chosen.\n",
    "\n",
    "- **Support Vector Machine**"
   ]
  },
  {
   "cell_type": "markdown",
   "id": "32cba10c-f6c5-4b06-9274-9a05cf52e9ba",
   "metadata": {},
   "source": [
    "### **`KNearestNeighbor`**"
   ]
  },
  {
   "cell_type": "code",
   "execution_count": 23,
   "id": "269d46af-cdbe-4068-a031-9c0c6c8c3143",
   "metadata": {
    "tags": []
   },
   "outputs": [
    {
     "data": {
      "image/png": "[encoded data removed]",
      "text/plain": [
       "<Figure size 640x480 with 1 Axes>"
      ]
     },
     "metadata": {},
     "output_type": "display_data"
    }
   ],
   "source": [
    "training = {\n",
    "    \"neighbors\": np.arange(3, 45),\n",
    "    \"train_acc\": [],\n",
    "    \"val_acc\": []\n",
    "}\n",
    "\n",
    "for neighbor in training[\"neighbors\"]:\n",
    "    knn = make_pipeline(\n",
    "        preprocessing, KNeighborsClassifier(n_neighbors=neighbor))\n",
    "    knn.fit(X_train, y_train)\n",
    "    training[\"train_acc\"].append(knn.score(X_train, y_train))\n",
    "    training[\"val_acc\"].append(knn.score(X_val, y_val))\n",
    "    \n",
    "training_df = pd.DataFrame(training).set_index(\"neighbors\")\n",
    "\n",
    "fig, ax = plt.subplots()\n",
    "ax = training_df.plot(linewidth=0.8, ax=ax, title=\"Training Curve for the Iris Flower Classification.\", ylabel=\"Accuracy Score\")"
   ]
  },
  {
   "cell_type": "markdown",
   "id": "27db373f-ada3-4e24-b6d6-3ad47abfe723",
   "metadata": {
    "tags": []
   },
   "source": [
    "From the given `knn`, it is seen that the model do not perform very well for the training and the validating score. Selecting a beter model."
   ]
  },
  {
   "cell_type": "markdown",
   "id": "800ab1fa-2ef6-4e85-b9f9-70f0dd0742b5",
   "metadata": {},
   "source": [
    "### **`SupportVectorClassifier`**"
   ]
  },
  {
   "cell_type": "code",
   "execution_count": 40,
   "id": "d6044927-b169-4ff6-848f-adbffb7d937f",
   "metadata": {
    "tags": []
   },
   "outputs": [
    {
     "data": {
      "application/vnd.plotly.v1+json": {
       "config": {
        "plotlyServerURL": "https://plot.ly"
       },
       "data": [
        {
         "hovertemplate": "variable=train_acc<br>regularization_strength=%{x}<br>value=%{y}<extra></extra>",
         "legendgroup": "train_acc",
         "line": {
          "color": "#636efa",
          "dash": "solid"
         },
         "marker": {
          "symbol": "circle"
         },
         "mode": "lines",
         "name": "train_acc",
         "orientation": "v",
         "showlegend": true,
         "type": "scatter",
         "x": [
          0.01,
          0.0301010101010101,
          0.050202020202020206,
          0.0703030303030303,
          0.0904040404040404,
          0.11050505050505051,
          0.13060606060606061,
          0.15070707070707073,
          0.17080808080808083,
          0.19090909090909092,
          0.21101010101010104,
          0.23111111111111113,
          0.2512121212121212,
          0.27131313131313134,
          0.29141414141414146,
          0.3115151515151515,
          0.33161616161616164,
          0.35171717171717176,
          0.3718181818181818,
          0.39191919191919194,
          0.41202020202020206,
          0.43212121212121213,
          0.45222222222222225,
          0.47232323232323237,
          0.49242424242424243,
          0.5125252525252526,
          0.5326262626262627,
          0.5527272727272727,
          0.5728282828282829,
          0.592929292929293,
          0.613030303030303,
          0.6331313131313132,
          0.6532323232323233,
          0.6733333333333333,
          0.6934343434343435,
          0.7135353535353536,
          0.7336363636363636,
          0.7537373737373738,
          0.7738383838383839,
          0.793939393939394,
          0.8140404040404041,
          0.8341414141414142,
          0.8542424242424242,
          0.8743434343434344,
          0.8944444444444445,
          0.9145454545454546,
          0.9346464646464647,
          0.9547474747474748,
          0.9748484848484849,
          0.994949494949495,
          1.0150505050505052,
          1.0351515151515152,
          1.0552525252525253,
          1.0753535353535355,
          1.0954545454545455,
          1.1155555555555556,
          1.1356565656565658,
          1.1557575757575758,
          1.175858585858586,
          1.1959595959595961,
          1.216060606060606,
          1.2361616161616162,
          1.2562626262626264,
          1.2763636363636364,
          1.2964646464646465,
          1.3165656565656567,
          1.3366666666666667,
          1.3567676767676768,
          1.376868686868687,
          1.396969696969697,
          1.4170707070707071,
          1.4371717171717173,
          1.4572727272727273,
          1.4773737373737375,
          1.4974747474747476,
          1.5175757575757576,
          1.5376767676767678,
          1.557777777777778,
          1.5778787878787879,
          1.597979797979798,
          1.6180808080808082,
          1.6381818181818182,
          1.6582828282828284,
          1.6783838383838385,
          1.6984848484848485,
          1.7185858585858587,
          1.7386868686868688,
          1.7587878787878788,
          1.778888888888889,
          1.7989898989898991,
          1.819090909090909,
          1.8391919191919193,
          1.8592929292929294,
          1.8793939393939394,
          1.8994949494949496,
          1.9195959595959597,
          1.9396969696969697,
          1.9597979797979799,
          1.97989898989899,
          2
         ],
         "xaxis": "x",
         "y": [
          0.8264462809917356,
          0.9421487603305785,
          0.9586776859504132,
          0.9504132231404959,
          0.9504132231404959,
          0.9504132231404959,
          0.9586776859504132,
          0.9586776859504132,
          0.9586776859504132,
          0.9669421487603306,
          0.9752066115702479,
          0.9752066115702479,
          0.9752066115702479,
          0.9752066115702479,
          0.9752066115702479,
          0.9752066115702479,
          0.9752066115702479,
          0.9752066115702479,
          0.9752066115702479,
          0.9752066115702479,
          0.9752066115702479,
          0.9752066115702479,
          0.9752066115702479,
          0.9752066115702479,
          0.9752066115702479,
          0.9752066115702479,
          0.9752066115702479,
          0.9752066115702479,
          0.9752066115702479,
          0.9752066115702479,
          0.9752066115702479,
          0.9752066115702479,
          0.9752066115702479,
          0.9752066115702479,
          0.9752066115702479,
          0.9752066115702479,
          0.9752066115702479,
          0.9752066115702479,
          0.9752066115702479,
          0.9752066115702479,
          0.9752066115702479,
          0.9752066115702479,
          0.9752066115702479,
          0.9752066115702479,
          0.9752066115702479,
          0.9752066115702479,
          0.9752066115702479,
          0.9752066115702479,
          0.9752066115702479,
          0.9752066115702479,
          0.9752066115702479,
          0.9752066115702479,
          0.9752066115702479,
          0.9752066115702479,
          0.9752066115702479,
          0.9752066115702479,
          0.9752066115702479,
          0.9752066115702479,
          0.9752066115702479,
          0.9752066115702479,
          0.9752066115702479,
          0.9752066115702479,
          0.9752066115702479,
          0.9752066115702479,
          0.9752066115702479,
          0.9752066115702479,
          0.9752066115702479,
          0.9752066115702479,
          0.9752066115702479,
          0.9752066115702479,
          0.9752066115702479,
          0.9752066115702479,
          0.9752066115702479,
          0.9752066115702479,
          0.9752066115702479,
          0.9752066115702479,
          0.9752066115702479,
          0.9752066115702479,
          0.9752066115702479,
          0.9752066115702479,
          0.9752066115702479,
          0.9752066115702479,
          0.9752066115702479,
          0.9752066115702479,
          0.9752066115702479,
          0.9752066115702479,
          0.9752066115702479,
          0.9752066115702479,
          0.9752066115702479,
          0.9752066115702479,
          0.9752066115702479,
          0.9752066115702479,
          0.9752066115702479,
          0.9752066115702479,
          0.9752066115702479,
          0.9752066115702479,
          0.9752066115702479,
          0.9752066115702479,
          0.9752066115702479,
          0.9752066115702479
         ],
         "yaxis": "y"
        },
        {
         "hovertemplate": "variable=val_acc<br>regularization_strength=%{x}<br>value=%{y}<extra></extra>",
         "legendgroup": "val_acc",
         "line": {
          "color": "#EF553B",
          "dash": "solid"
         },
         "marker": {
          "symbol": "circle"
         },
         "mode": "lines",
         "name": "val_acc",
         "orientation": "v",
         "showlegend": true,
         "type": "scatter",
         "x": [
          0.01,
          0.0301010101010101,
          0.050202020202020206,
          0.0703030303030303,
          0.0904040404040404,
          0.11050505050505051,
          0.13060606060606061,
          0.15070707070707073,
          0.17080808080808083,
          0.19090909090909092,
          0.21101010101010104,
          0.23111111111111113,
          0.2512121212121212,
          0.27131313131313134,
          0.29141414141414146,
          0.3115151515151515,
          0.33161616161616164,
          0.35171717171717176,
          0.3718181818181818,
          0.39191919191919194,
          0.41202020202020206,
          0.43212121212121213,
          0.45222222222222225,
          0.47232323232323237,
          0.49242424242424243,
          0.5125252525252526,
          0.5326262626262627,
          0.5527272727272727,
          0.5728282828282829,
          0.592929292929293,
          0.613030303030303,
          0.6331313131313132,
          0.6532323232323233,
          0.6733333333333333,
          0.6934343434343435,
          0.7135353535353536,
          0.7336363636363636,
          0.7537373737373738,
          0.7738383838383839,
          0.793939393939394,
          0.8140404040404041,
          0.8341414141414142,
          0.8542424242424242,
          0.8743434343434344,
          0.8944444444444445,
          0.9145454545454546,
          0.9346464646464647,
          0.9547474747474748,
          0.9748484848484849,
          0.994949494949495,
          1.0150505050505052,
          1.0351515151515152,
          1.0552525252525253,
          1.0753535353535355,
          1.0954545454545455,
          1.1155555555555556,
          1.1356565656565658,
          1.1557575757575758,
          1.175858585858586,
          1.1959595959595961,
          1.216060606060606,
          1.2361616161616162,
          1.2562626262626264,
          1.2763636363636364,
          1.2964646464646465,
          1.3165656565656567,
          1.3366666666666667,
          1.3567676767676768,
          1.376868686868687,
          1.396969696969697,
          1.4170707070707071,
          1.4371717171717173,
          1.4572727272727273,
          1.4773737373737375,
          1.4974747474747476,
          1.5175757575757576,
          1.5376767676767678,
          1.557777777777778,
          1.5778787878787879,
          1.597979797979798,
          1.6180808080808082,
          1.6381818181818182,
          1.6582828282828284,
          1.6783838383838385,
          1.6984848484848485,
          1.7185858585858587,
          1.7386868686868688,
          1.7587878787878788,
          1.778888888888889,
          1.7989898989898991,
          1.819090909090909,
          1.8391919191919193,
          1.8592929292929294,
          1.8793939393939394,
          1.8994949494949496,
          1.9195959595959597,
          1.9396969696969697,
          1.9597979797979799,
          1.97989898989899,
          2
         ],
         "xaxis": "x",
         "y": [
          0.7857142857142857,
          0.9285714285714286,
          1,
          1,
          1,
          1,
          1,
          1,
          1,
          1,
          1,
          1,
          1,
          1,
          1,
          1,
          1,
          1,
          1,
          1,
          1,
          1,
          1,
          1,
          1,
          1,
          1,
          1,
          1,
          1,
          1,
          1,
          1,
          1,
          1,
          1,
          1,
          1,
          1,
          1,
          1,
          1,
          1,
          1,
          1,
          1,
          1,
          1,
          1,
          1,
          1,
          1,
          1,
          1,
          1,
          1,
          1,
          1,
          1,
          1,
          1,
          1,
          1,
          1,
          1,
          1,
          1,
          1,
          1,
          1,
          1,
          1,
          1,
          1,
          1,
          1,
          1,
          1,
          1,
          1,
          1,
          1,
          1,
          1,
          1,
          1,
          1,
          1,
          1,
          1,
          1,
          1,
          1,
          1,
          1,
          1,
          1,
          1,
          1,
          1
         ],
         "yaxis": "y"
        }
       ],
       "layout": {
        "autosize": true,
        "legend": {
         "title": {
          "text": "variable"
         },
         "tracegroupgap": 0
        },
        "template": {
         "data": {
          "bar": [
           {
            "error_x": {
             "color": "#2a3f5f"
            },
            "error_y": {
             "color": "#2a3f5f"
            },
            "marker": {
             "line": {
              "color": "#E5ECF6",
              "width": 0.5
             },
             "pattern": {
              "fillmode": "overlay",
              "size": 10,
              "solidity": 0.2
             }
            },
            "type": "bar"
           }
          ],
          "barpolar": [
           {
            "marker": {
             "line": {
              "color": "#E5ECF6",
              "width": 0.5
             },
             "pattern": {
              "fillmode": "overlay",
              "size": 10,
              "solidity": 0.2
             }
            },
            "type": "barpolar"
           }
          ],
          "carpet": [
           {
            "aaxis": {
             "endlinecolor": "#2a3f5f",
             "gridcolor": "white",
             "linecolor": "white",
             "minorgridcolor": "white",
             "startlinecolor": "#2a3f5f"
            },
            "baxis": {
             "endlinecolor": "#2a3f5f",
             "gridcolor": "white",
             "linecolor": "white",
             "minorgridcolor": "white",
             "startlinecolor": "#2a3f5f"
            },
            "type": "carpet"
           }
          ],
          "choropleth": [
           {
            "colorbar": {
             "outlinewidth": 0,
             "ticks": ""
            },
            "type": "choropleth"
           }
          ],
          "contour": [
           {
            "colorbar": {
             "outlinewidth": 0,
             "ticks": ""
            },
            "colorscale": [
             [
              0,
              "#0d0887"
             ],
             [
              0.1111111111111111,
              "#46039f"
             ],
             [
              0.2222222222222222,
              "#7201a8"
             ],
             [
              0.3333333333333333,
              "#9c179e"
             ],
             [
              0.4444444444444444,
              "#bd3786"
             ],
             [
              0.5555555555555556,
              "#d8576b"
             ],
             [
              0.6666666666666666,
              "#ed7953"
             ],
             [
              0.7777777777777778,
              "#fb9f3a"
             ],
             [
              0.8888888888888888,
              "#fdca26"
             ],
             [
              1,
              "#f0f921"
             ]
            ],
            "type": "contour"
           }
          ],
          "contourcarpet": [
           {
            "colorbar": {
             "outlinewidth": 0,
             "ticks": ""
            },
            "type": "contourcarpet"
           }
          ],
          "heatmap": [
           {
            "colorbar": {
             "outlinewidth": 0,
             "ticks": ""
            },
            "colorscale": [
             [
              0,
              "#0d0887"
             ],
             [
              0.1111111111111111,
              "#46039f"
             ],
             [
              0.2222222222222222,
              "#7201a8"
             ],
             [
              0.3333333333333333,
              "#9c179e"
             ],
             [
              0.4444444444444444,
              "#bd3786"
             ],
             [
              0.5555555555555556,
              "#d8576b"
             ],
             [
              0.6666666666666666,
              "#ed7953"
             ],
             [
              0.7777777777777778,
              "#fb9f3a"
             ],
             [
              0.8888888888888888,
              "#fdca26"
             ],
             [
              1,
              "#f0f921"
             ]
            ],
            "type": "heatmap"
           }
          ],
          "heatmapgl": [
           {
            "colorbar": {
             "outlinewidth": 0,
             "ticks": ""
            },
            "colorscale": [
             [
              0,
              "#0d0887"
             ],
             [
              0.1111111111111111,
              "#46039f"
             ],
             [
              0.2222222222222222,
              "#7201a8"
             ],
             [
              0.3333333333333333,
              "#9c179e"
             ],
             [
              0.4444444444444444,
              "#bd3786"
             ],
             [
              0.5555555555555556,
              "#d8576b"
             ],
             [
              0.6666666666666666,
              "#ed7953"
             ],
             [
              0.7777777777777778,
              "#fb9f3a"
             ],
             [
              0.8888888888888888,
              "#fdca26"
             ],
             [
              1,
              "#f0f921"
             ]
            ],
            "type": "heatmapgl"
           }
          ],
          "histogram": [
           {
            "marker": {
             "pattern": {
              "fillmode": "overlay",
              "size": 10,
              "solidity": 0.2
             }
            },
            "type": "histogram"
           }
          ],
          "histogram2d": [
           {
            "colorbar": {
             "outlinewidth": 0,
             "ticks": ""
            },
            "colorscale": [
             [
              0,
              "#0d0887"
             ],
             [
              0.1111111111111111,
              "#46039f"
             ],
             [
              0.2222222222222222,
              "#7201a8"
             ],
             [
              0.3333333333333333,
              "#9c179e"
             ],
             [
              0.4444444444444444,
              "#bd3786"
             ],
             [
              0.5555555555555556,
              "#d8576b"
             ],
             [
              0.6666666666666666,
              "#ed7953"
             ],
             [
              0.7777777777777778,
              "#fb9f3a"
             ],
             [
              0.8888888888888888,
              "#fdca26"
             ],
             [
              1,
              "#f0f921"
             ]
            ],
            "type": "histogram2d"
           }
          ],
          "histogram2dcontour": [
           {
            "colorbar": {
             "outlinewidth": 0,
             "ticks": ""
            },
            "colorscale": [
             [
              0,
              "#0d0887"
             ],
             [
              0.1111111111111111,
              "#46039f"
             ],
             [
              0.2222222222222222,
              "#7201a8"
             ],
             [
              0.3333333333333333,
              "#9c179e"
             ],
             [
              0.4444444444444444,
              "#bd3786"
             ],
             [
              0.5555555555555556,
              "#d8576b"
             ],
             [
              0.6666666666666666,
              "#ed7953"
             ],
             [
              0.7777777777777778,
              "#fb9f3a"
             ],
             [
              0.8888888888888888,
              "#fdca26"
             ],
             [
              1,
              "#f0f921"
             ]
            ],
            "type": "histogram2dcontour"
           }
          ],
          "mesh3d": [
           {
            "colorbar": {
             "outlinewidth": 0,
             "ticks": ""
            },
            "type": "mesh3d"
           }
          ],
          "parcoords": [
           {
            "line": {
             "colorbar": {
              "outlinewidth": 0,
              "ticks": ""
             }
            },
            "type": "parcoords"
           }
          ],
          "pie": [
           {
            "automargin": true,
            "type": "pie"
           }
          ],
          "scatter": [
           {
            "fillpattern": {
             "fillmode": "overlay",
             "size": 10,
             "solidity": 0.2
            },
            "type": "scatter"
           }
          ],
          "scatter3d": [
           {
            "line": {
             "colorbar": {
              "outlinewidth": 0,
              "ticks": ""
             }
            },
            "marker": {
             "colorbar": {
              "outlinewidth": 0,
              "ticks": ""
             }
            },
            "type": "scatter3d"
           }
          ],
          "scattercarpet": [
           {
            "marker": {
             "colorbar": {
              "outlinewidth": 0,
              "ticks": ""
             }
            },
            "type": "scattercarpet"
           }
          ],
          "scattergeo": [
           {
            "marker": {
             "colorbar": {
              "outlinewidth": 0,
              "ticks": ""
             }
            },
            "type": "scattergeo"
           }
          ],
          "scattergl": [
           {
            "marker": {
             "colorbar": {
              "outlinewidth": 0,
              "ticks": ""
             }
            },
            "type": "scattergl"
           }
          ],
          "scattermapbox": [
           {
            "marker": {
             "colorbar": {
              "outlinewidth": 0,
              "ticks": ""
             }
            },
            "type": "scattermapbox"
           }
          ],
          "scatterpolar": [
           {
            "marker": {
             "colorbar": {
              "outlinewidth": 0,
              "ticks": ""
             }
            },
            "type": "scatterpolar"
           }
          ],
          "scatterpolargl": [
           {
            "marker": {
             "colorbar": {
              "outlinewidth": 0,
              "ticks": ""
             }
            },
            "type": "scatterpolargl"
           }
          ],
          "scatterternary": [
           {
            "marker": {
             "colorbar": {
              "outlinewidth": 0,
              "ticks": ""
             }
            },
            "type": "scatterternary"
           }
          ],
          "surface": [
           {
            "colorbar": {
             "outlinewidth": 0,
             "ticks": ""
            },
            "colorscale": [
             [
              0,
              "#0d0887"
             ],
             [
              0.1111111111111111,
              "#46039f"
             ],
             [
              0.2222222222222222,
              "#7201a8"
             ],
             [
              0.3333333333333333,
              "#9c179e"
             ],
             [
              0.4444444444444444,
              "#bd3786"
             ],
             [
              0.5555555555555556,
              "#d8576b"
             ],
             [
              0.6666666666666666,
              "#ed7953"
             ],
             [
              0.7777777777777778,
              "#fb9f3a"
             ],
             [
              0.8888888888888888,
              "#fdca26"
             ],
             [
              1,
              "#f0f921"
             ]
            ],
            "type": "surface"
           }
          ],
          "table": [
           {
            "cells": {
             "fill": {
              "color": "#EBF0F8"
             },
             "line": {
              "color": "white"
             }
            },
            "header": {
             "fill": {
              "color": "#C8D4E3"
             },
             "line": {
              "color": "white"
             }
            },
            "type": "table"
           }
          ]
         },
         "layout": {
          "annotationdefaults": {
           "arrowcolor": "#2a3f5f",
           "arrowhead": 0,
           "arrowwidth": 1
          },
          "autotypenumbers": "strict",
          "coloraxis": {
           "colorbar": {
            "outlinewidth": 0,
            "ticks": ""
           }
          },
          "colorscale": {
           "diverging": [
            [
             0,
             "#8e0152"
            ],
            [
             0.1,
             "#c51b7d"
            ],
            [
             0.2,
             "#de77ae"
            ],
            [
             0.3,
             "#f1b6da"
            ],
            [
             0.4,
             "#fde0ef"
            ],
            [
             0.5,
             "#f7f7f7"
            ],
            [
             0.6,
             "#e6f5d0"
            ],
            [
             0.7,
             "#b8e186"
            ],
            [
             0.8,
             "#7fbc41"
            ],
            [
             0.9,
             "#4d9221"
            ],
            [
             1,
             "#276419"
            ]
           ],
           "sequential": [
            [
             0,
             "#0d0887"
            ],
            [
             0.1111111111111111,
             "#46039f"
            ],
            [
             0.2222222222222222,
             "#7201a8"
            ],
            [
             0.3333333333333333,
             "#9c179e"
            ],
            [
             0.4444444444444444,
             "#bd3786"
            ],
            [
             0.5555555555555556,
             "#d8576b"
            ],
            [
             0.6666666666666666,
             "#ed7953"
            ],
            [
             0.7777777777777778,
             "#fb9f3a"
            ],
            [
             0.8888888888888888,
             "#fdca26"
            ],
            [
             1,
             "#f0f921"
            ]
           ],
           "sequentialminus": [
            [
             0,
             "#0d0887"
            ],
            [
             0.1111111111111111,
             "#46039f"
            ],
            [
             0.2222222222222222,
             "#7201a8"
            ],
            [
             0.3333333333333333,
             "#9c179e"
            ],
            [
             0.4444444444444444,
             "#bd3786"
            ],
            [
             0.5555555555555556,
             "#d8576b"
            ],
            [
             0.6666666666666666,
             "#ed7953"
            ],
            [
             0.7777777777777778,
             "#fb9f3a"
            ],
            [
             0.8888888888888888,
             "#fdca26"
            ],
            [
             1,
             "#f0f921"
            ]
           ]
          },
          "colorway": [
           "#636efa",
           "#EF553B",
           "#00cc96",
           "#ab63fa",
           "#FFA15A",
           "#19d3f3",
           "#FF6692",
           "#B6E880",
           "#FF97FF",
           "#FECB52"
          ],
          "font": {
           "color": "#2a3f5f"
          },
          "geo": {
           "bgcolor": "white",
           "lakecolor": "white",
           "landcolor": "#E5ECF6",
           "showlakes": true,
           "showland": true,
           "subunitcolor": "white"
          },
          "hoverlabel": {
           "align": "left"
          },
          "hovermode": "closest",
          "mapbox": {
           "style": "light"
          },
          "paper_bgcolor": "white",
          "plot_bgcolor": "#E5ECF6",
          "polar": {
           "angularaxis": {
            "gridcolor": "white",
            "linecolor": "white",
            "ticks": ""
           },
           "bgcolor": "#E5ECF6",
           "radialaxis": {
            "gridcolor": "white",
            "linecolor": "white",
            "ticks": ""
           }
          },
          "scene": {
           "xaxis": {
            "backgroundcolor": "#E5ECF6",
            "gridcolor": "white",
            "gridwidth": 2,
            "linecolor": "white",
            "showbackground": true,
            "ticks": "",
            "zerolinecolor": "white"
           },
           "yaxis": {
            "backgroundcolor": "#E5ECF6",
            "gridcolor": "white",
            "gridwidth": 2,
            "linecolor": "white",
            "showbackground": true,
            "ticks": "",
            "zerolinecolor": "white"
           },
           "zaxis": {
            "backgroundcolor": "#E5ECF6",
            "gridcolor": "white",
            "gridwidth": 2,
            "linecolor": "white",
            "showbackground": true,
            "ticks": "",
            "zerolinecolor": "white"
           }
          },
          "shapedefaults": {
           "line": {
            "color": "#2a3f5f"
           }
          },
          "ternary": {
           "aaxis": {
            "gridcolor": "white",
            "linecolor": "white",
            "ticks": ""
           },
           "baxis": {
            "gridcolor": "white",
            "linecolor": "white",
            "ticks": ""
           },
           "bgcolor": "#E5ECF6",
           "caxis": {
            "gridcolor": "white",
            "linecolor": "white",
            "ticks": ""
           }
          },
          "title": {
           "x": 0.05
          },
          "xaxis": {
           "automargin": true,
           "gridcolor": "white",
           "linecolor": "white",
           "ticks": "",
           "title": {
            "standoff": 15
           },
           "zerolinecolor": "white",
           "zerolinewidth": 2
          },
          "yaxis": {
           "automargin": true,
           "gridcolor": "white",
           "linecolor": "white",
           "ticks": "",
           "title": {
            "standoff": 15
           },
           "zerolinecolor": "white",
           "zerolinewidth": 2
          }
         }
        },
        "title": {
         "text": "Training Curve for the Iris Flower Classification."
        },
        "xaxis": {
         "anchor": "y",
         "autorange": true,
         "domain": [
          0,
          1
         ],
         "range": [
          0.01,
          2
         ],
         "title": {
          "text": "regularization_strength"
         },
         "type": "linear"
        },
        "yaxis": {
         "anchor": "x",
         "autorange": true,
         "domain": [
          0,
          1
         ],
         "range": [
          0.7738095238095238,
          1.0119047619047619
         ],
         "title": {
          "text": "value"
         },
         "type": "linear"
        }
       }
      },
      "image/png": "[encoded data removed]",
      "text/html": [
       "<div>                            <div id=\"63f11609-6e39-44a0-8de2-82ffb45f4a23\" class=\"plotly-graph-div\" style=\"height:525px; width:100%;\"></div>            <script type=\"text/javascript\">                require([\"plotly\"], function(Plotly) {                    window.PLOTLYENV=window.PLOTLYENV || {};                                    if (document.getElementById(\"63f11609-6e39-44a0-8de2-82ffb45f4a23\")) {                    Plotly.newPlot(                        \"63f11609-6e39-44a0-8de2-82ffb45f4a23\",                        [{\"hovertemplate\":\"variable=train_acc<br>regularization_strength=%{x}<br>value=%{y}<extra></extra>\",\"legendgroup\":\"train_acc\",\"line\":{\"color\":\"#636efa\",\"dash\":\"solid\"},\"marker\":{\"symbol\":\"circle\"},\"mode\":\"lines\",\"name\":\"train_acc\",\"orientation\":\"v\",\"showlegend\":true,\"x\":[0.01,0.0301010101010101,0.050202020202020206,0.0703030303030303,0.0904040404040404,0.11050505050505051,0.13060606060606061,0.15070707070707073,0.17080808080808083,0.19090909090909092,0.21101010101010104,0.23111111111111113,0.2512121212121212,0.27131313131313134,0.29141414141414146,0.3115151515151515,0.33161616161616164,0.35171717171717176,0.3718181818181818,0.39191919191919194,0.41202020202020206,0.43212121212121213,0.45222222222222225,0.47232323232323237,0.49242424242424243,0.5125252525252526,0.5326262626262627,0.5527272727272727,0.5728282828282829,0.592929292929293,0.613030303030303,0.6331313131313132,0.6532323232323233,0.6733333333333333,0.6934343434343435,0.7135353535353536,0.7336363636363636,0.7537373737373738,0.7738383838383839,0.793939393939394,0.8140404040404041,0.8341414141414142,0.8542424242424242,0.8743434343434344,0.8944444444444445,0.9145454545454546,0.9346464646464647,0.9547474747474748,0.9748484848484849,0.994949494949495,1.0150505050505052,1.0351515151515152,1.0552525252525253,1.0753535353535355,1.0954545454545455,1.1155555555555556,1.1356565656565658,1.1557575757575758,1.175858585858586,1.1959595959595961,1.216060606060606,1.2361616161616162,1.2562626262626264,1.2763636363636364,1.2964646464646465,1.3165656565656567,1.3366666666666667,1.3567676767676768,1.376868686868687,1.396969696969697,1.4170707070707071,1.4371717171717173,1.4572727272727273,1.4773737373737375,1.4974747474747476,1.5175757575757576,1.5376767676767678,1.557777777777778,1.5778787878787879,1.597979797979798,1.6180808080808082,1.6381818181818182,1.6582828282828284,1.6783838383838385,1.6984848484848485,1.7185858585858587,1.7386868686868688,1.7587878787878788,1.778888888888889,1.7989898989898991,1.819090909090909,1.8391919191919193,1.8592929292929294,1.8793939393939394,1.8994949494949496,1.9195959595959597,1.9396969696969697,1.9597979797979799,1.97989898989899,2.0],\"xaxis\":\"x\",\"y\":[0.8264462809917356,0.9421487603305785,0.9586776859504132,0.9504132231404959,0.9504132231404959,0.9504132231404959,0.9586776859504132,0.9586776859504132,0.9586776859504132,0.9669421487603306,0.9752066115702479,0.9752066115702479,0.9752066115702479,0.9752066115702479,0.9752066115702479,0.9752066115702479,0.9752066115702479,0.9752066115702479,0.9752066115702479,0.9752066115702479,0.9752066115702479,0.9752066115702479,0.9752066115702479,0.9752066115702479,0.9752066115702479,0.9752066115702479,0.9752066115702479,0.9752066115702479,0.9752066115702479,0.9752066115702479,0.9752066115702479,0.9752066115702479,0.9752066115702479,0.9752066115702479,0.9752066115702479,0.9752066115702479,0.9752066115702479,0.9752066115702479,0.9752066115702479,0.9752066115702479,0.9752066115702479,0.9752066115702479,0.9752066115702479,0.9752066115702479,0.9752066115702479,0.9752066115702479,0.9752066115702479,0.9752066115702479,0.9752066115702479,0.9752066115702479,0.9752066115702479,0.9752066115702479,0.9752066115702479,0.9752066115702479,0.9752066115702479,0.9752066115702479,0.9752066115702479,0.9752066115702479,0.9752066115702479,0.9752066115702479,0.9752066115702479,0.9752066115702479,0.9752066115702479,0.9752066115702479,0.9752066115702479,0.9752066115702479,0.9752066115702479,0.9752066115702479,0.9752066115702479,0.9752066115702479,0.9752066115702479,0.9752066115702479,0.9752066115702479,0.9752066115702479,0.9752066115702479,0.9752066115702479,0.9752066115702479,0.9752066115702479,0.9752066115702479,0.9752066115702479,0.9752066115702479,0.9752066115702479,0.9752066115702479,0.9752066115702479,0.9752066115702479,0.9752066115702479,0.9752066115702479,0.9752066115702479,0.9752066115702479,0.9752066115702479,0.9752066115702479,0.9752066115702479,0.9752066115702479,0.9752066115702479,0.9752066115702479,0.9752066115702479,0.9752066115702479,0.9752066115702479,0.9752066115702479,0.9752066115702479],\"yaxis\":\"y\",\"type\":\"scatter\"},{\"hovertemplate\":\"variable=val_acc<br>regularization_strength=%{x}<br>value=%{y}<extra></extra>\",\"legendgroup\":\"val_acc\",\"line\":{\"color\":\"#EF553B\",\"dash\":\"solid\"},\"marker\":{\"symbol\":\"circle\"},\"mode\":\"lines\",\"name\":\"val_acc\",\"orientation\":\"v\",\"showlegend\":true,\"x\":[0.01,0.0301010101010101,0.050202020202020206,0.0703030303030303,0.0904040404040404,0.11050505050505051,0.13060606060606061,0.15070707070707073,0.17080808080808083,0.19090909090909092,0.21101010101010104,0.23111111111111113,0.2512121212121212,0.27131313131313134,0.29141414141414146,0.3115151515151515,0.33161616161616164,0.35171717171717176,0.3718181818181818,0.39191919191919194,0.41202020202020206,0.43212121212121213,0.45222222222222225,0.47232323232323237,0.49242424242424243,0.5125252525252526,0.5326262626262627,0.5527272727272727,0.5728282828282829,0.592929292929293,0.613030303030303,0.6331313131313132,0.6532323232323233,0.6733333333333333,0.6934343434343435,0.7135353535353536,0.7336363636363636,0.7537373737373738,0.7738383838383839,0.793939393939394,0.8140404040404041,0.8341414141414142,0.8542424242424242,0.8743434343434344,0.8944444444444445,0.9145454545454546,0.9346464646464647,0.9547474747474748,0.9748484848484849,0.994949494949495,1.0150505050505052,1.0351515151515152,1.0552525252525253,1.0753535353535355,1.0954545454545455,1.1155555555555556,1.1356565656565658,1.1557575757575758,1.175858585858586,1.1959595959595961,1.216060606060606,1.2361616161616162,1.2562626262626264,1.2763636363636364,1.2964646464646465,1.3165656565656567,1.3366666666666667,1.3567676767676768,1.376868686868687,1.396969696969697,1.4170707070707071,1.4371717171717173,1.4572727272727273,1.4773737373737375,1.4974747474747476,1.5175757575757576,1.5376767676767678,1.557777777777778,1.5778787878787879,1.597979797979798,1.6180808080808082,1.6381818181818182,1.6582828282828284,1.6783838383838385,1.6984848484848485,1.7185858585858587,1.7386868686868688,1.7587878787878788,1.778888888888889,1.7989898989898991,1.819090909090909,1.8391919191919193,1.8592929292929294,1.8793939393939394,1.8994949494949496,1.9195959595959597,1.9396969696969697,1.9597979797979799,1.97989898989899,2.0],\"xaxis\":\"x\",\"y\":[0.7857142857142857,0.9285714285714286,1.0,1.0,1.0,1.0,1.0,1.0,1.0,1.0,1.0,1.0,1.0,1.0,1.0,1.0,1.0,1.0,1.0,1.0,1.0,1.0,1.0,1.0,1.0,1.0,1.0,1.0,1.0,1.0,1.0,1.0,1.0,1.0,1.0,1.0,1.0,1.0,1.0,1.0,1.0,1.0,1.0,1.0,1.0,1.0,1.0,1.0,1.0,1.0,1.0,1.0,1.0,1.0,1.0,1.0,1.0,1.0,1.0,1.0,1.0,1.0,1.0,1.0,1.0,1.0,1.0,1.0,1.0,1.0,1.0,1.0,1.0,1.0,1.0,1.0,1.0,1.0,1.0,1.0,1.0,1.0,1.0,1.0,1.0,1.0,1.0,1.0,1.0,1.0,1.0,1.0,1.0,1.0,1.0,1.0,1.0,1.0,1.0,1.0],\"yaxis\":\"y\",\"type\":\"scatter\"}],                        {\"template\":{\"data\":{\"histogram2dcontour\":[{\"type\":\"histogram2dcontour\",\"colorbar\":{\"outlinewidth\":0,\"ticks\":\"\"},\"colorscale\":[[0.0,\"#0d0887\"],[0.1111111111111111,\"#46039f\"],[0.2222222222222222,\"#7201a8\"],[0.3333333333333333,\"#9c179e\"],[0.4444444444444444,\"#bd3786\"],[0.5555555555555556,\"#d8576b\"],[0.6666666666666666,\"#ed7953\"],[0.7777777777777778,\"#fb9f3a\"],[0.8888888888888888,\"#fdca26\"],[1.0,\"#f0f921\"]]}],\"choropleth\":[{\"type\":\"choropleth\",\"colorbar\":{\"outlinewidth\":0,\"ticks\":\"\"}}],\"histogram2d\":[{\"type\":\"histogram2d\",\"colorbar\":{\"outlinewidth\":0,\"ticks\":\"\"},\"colorscale\":[[0.0,\"#0d0887\"],[0.1111111111111111,\"#46039f\"],[0.2222222222222222,\"#7201a8\"],[0.3333333333333333,\"#9c179e\"],[0.4444444444444444,\"#bd3786\"],[0.5555555555555556,\"#d8576b\"],[0.6666666666666666,\"#ed7953\"],[0.7777777777777778,\"#fb9f3a\"],[0.8888888888888888,\"#fdca26\"],[1.0,\"#f0f921\"]]}],\"heatmap\":[{\"type\":\"heatmap\",\"colorbar\":{\"outlinewidth\":0,\"ticks\":\"\"},\"colorscale\":[[0.0,\"#0d0887\"],[0.1111111111111111,\"#46039f\"],[0.2222222222222222,\"#7201a8\"],[0.3333333333333333,\"#9c179e\"],[0.4444444444444444,\"#bd3786\"],[0.5555555555555556,\"#d8576b\"],[0.6666666666666666,\"#ed7953\"],[0.7777777777777778,\"#fb9f3a\"],[0.8888888888888888,\"#fdca26\"],[1.0,\"#f0f921\"]]}],\"heatmapgl\":[{\"type\":\"heatmapgl\",\"colorbar\":{\"outlinewidth\":0,\"ticks\":\"\"},\"colorscale\":[[0.0,\"#0d0887\"],[0.1111111111111111,\"#46039f\"],[0.2222222222222222,\"#7201a8\"],[0.3333333333333333,\"#9c179e\"],[0.4444444444444444,\"#bd3786\"],[0.5555555555555556,\"#d8576b\"],[0.6666666666666666,\"#ed7953\"],[0.7777777777777778,\"#fb9f3a\"],[0.8888888888888888,\"#fdca26\"],[1.0,\"#f0f921\"]]}],\"contourcarpet\":[{\"type\":\"contourcarpet\",\"colorbar\":{\"outlinewidth\":0,\"ticks\":\"\"}}],\"contour\":[{\"type\":\"contour\",\"colorbar\":{\"outlinewidth\":0,\"ticks\":\"\"},\"colorscale\":[[0.0,\"#0d0887\"],[0.1111111111111111,\"#46039f\"],[0.2222222222222222,\"#7201a8\"],[0.3333333333333333,\"#9c179e\"],[0.4444444444444444,\"#bd3786\"],[0.5555555555555556,\"#d8576b\"],[0.6666666666666666,\"#ed7953\"],[0.7777777777777778,\"#fb9f3a\"],[0.8888888888888888,\"#fdca26\"],[1.0,\"#f0f921\"]]}],\"surface\":[{\"type\":\"surface\",\"colorbar\":{\"outlinewidth\":0,\"ticks\":\"\"},\"colorscale\":[[0.0,\"#0d0887\"],[0.1111111111111111,\"#46039f\"],[0.2222222222222222,\"#7201a8\"],[0.3333333333333333,\"#9c179e\"],[0.4444444444444444,\"#bd3786\"],[0.5555555555555556,\"#d8576b\"],[0.6666666666666666,\"#ed7953\"],[0.7777777777777778,\"#fb9f3a\"],[0.8888888888888888,\"#fdca26\"],[1.0,\"#f0f921\"]]}],\"mesh3d\":[{\"type\":\"mesh3d\",\"colorbar\":{\"outlinewidth\":0,\"ticks\":\"\"}}],\"scatter\":[{\"fillpattern\":{\"fillmode\":\"overlay\",\"size\":10,\"solidity\":0.2},\"type\":\"scatter\"}],\"parcoords\":[{\"type\":\"parcoords\",\"line\":{\"colorbar\":{\"outlinewidth\":0,\"ticks\":\"\"}}}],\"scatterpolargl\":[{\"type\":\"scatterpolargl\",\"marker\":{\"colorbar\":{\"outlinewidth\":0,\"ticks\":\"\"}}}],\"bar\":[{\"error_x\":{\"color\":\"#2a3f5f\"},\"error_y\":{\"color\":\"#2a3f5f\"},\"marker\":{\"line\":{\"color\":\"#E5ECF6\",\"width\":0.5},\"pattern\":{\"fillmode\":\"overlay\",\"size\":10,\"solidity\":0.2}},\"type\":\"bar\"}],\"scattergeo\":[{\"type\":\"scattergeo\",\"marker\":{\"colorbar\":{\"outlinewidth\":0,\"ticks\":\"\"}}}],\"scatterpolar\":[{\"type\":\"scatterpolar\",\"marker\":{\"colorbar\":{\"outlinewidth\":0,\"ticks\":\"\"}}}],\"histogram\":[{\"marker\":{\"pattern\":{\"fillmode\":\"overlay\",\"size\":10,\"solidity\":0.2}},\"type\":\"histogram\"}],\"scattergl\":[{\"type\":\"scattergl\",\"marker\":{\"colorbar\":{\"outlinewidth\":0,\"ticks\":\"\"}}}],\"scatter3d\":[{\"type\":\"scatter3d\",\"line\":{\"colorbar\":{\"outlinewidth\":0,\"ticks\":\"\"}},\"marker\":{\"colorbar\":{\"outlinewidth\":0,\"ticks\":\"\"}}}],\"scattermapbox\":[{\"type\":\"scattermapbox\",\"marker\":{\"colorbar\":{\"outlinewidth\":0,\"ticks\":\"\"}}}],\"scatterternary\":[{\"type\":\"scatterternary\",\"marker\":{\"colorbar\":{\"outlinewidth\":0,\"ticks\":\"\"}}}],\"scattercarpet\":[{\"type\":\"scattercarpet\",\"marker\":{\"colorbar\":{\"outlinewidth\":0,\"ticks\":\"\"}}}],\"carpet\":[{\"aaxis\":{\"endlinecolor\":\"#2a3f5f\",\"gridcolor\":\"white\",\"linecolor\":\"white\",\"minorgridcolor\":\"white\",\"startlinecolor\":\"#2a3f5f\"},\"baxis\":{\"endlinecolor\":\"#2a3f5f\",\"gridcolor\":\"white\",\"linecolor\":\"white\",\"minorgridcolor\":\"white\",\"startlinecolor\":\"#2a3f5f\"},\"type\":\"carpet\"}],\"table\":[{\"cells\":{\"fill\":{\"color\":\"#EBF0F8\"},\"line\":{\"color\":\"white\"}},\"header\":{\"fill\":{\"color\":\"#C8D4E3\"},\"line\":{\"color\":\"white\"}},\"type\":\"table\"}],\"barpolar\":[{\"marker\":{\"line\":{\"color\":\"#E5ECF6\",\"width\":0.5},\"pattern\":{\"fillmode\":\"overlay\",\"size\":10,\"solidity\":0.2}},\"type\":\"barpolar\"}],\"pie\":[{\"automargin\":true,\"type\":\"pie\"}]},\"layout\":{\"autotypenumbers\":\"strict\",\"colorway\":[\"#636efa\",\"#EF553B\",\"#00cc96\",\"#ab63fa\",\"#FFA15A\",\"#19d3f3\",\"#FF6692\",\"#B6E880\",\"#FF97FF\",\"#FECB52\"],\"font\":{\"color\":\"#2a3f5f\"},\"hovermode\":\"closest\",\"hoverlabel\":{\"align\":\"left\"},\"paper_bgcolor\":\"white\",\"plot_bgcolor\":\"#E5ECF6\",\"polar\":{\"bgcolor\":\"#E5ECF6\",\"angularaxis\":{\"gridcolor\":\"white\",\"linecolor\":\"white\",\"ticks\":\"\"},\"radialaxis\":{\"gridcolor\":\"white\",\"linecolor\":\"white\",\"ticks\":\"\"}},\"ternary\":{\"bgcolor\":\"#E5ECF6\",\"aaxis\":{\"gridcolor\":\"white\",\"linecolor\":\"white\",\"ticks\":\"\"},\"baxis\":{\"gridcolor\":\"white\",\"linecolor\":\"white\",\"ticks\":\"\"},\"caxis\":{\"gridcolor\":\"white\",\"linecolor\":\"white\",\"ticks\":\"\"}},\"coloraxis\":{\"colorbar\":{\"outlinewidth\":0,\"ticks\":\"\"}},\"colorscale\":{\"sequential\":[[0.0,\"#0d0887\"],[0.1111111111111111,\"#46039f\"],[0.2222222222222222,\"#7201a8\"],[0.3333333333333333,\"#9c179e\"],[0.4444444444444444,\"#bd3786\"],[0.5555555555555556,\"#d8576b\"],[0.6666666666666666,\"#ed7953\"],[0.7777777777777778,\"#fb9f3a\"],[0.8888888888888888,\"#fdca26\"],[1.0,\"#f0f921\"]],\"sequentialminus\":[[0.0,\"#0d0887\"],[0.1111111111111111,\"#46039f\"],[0.2222222222222222,\"#7201a8\"],[0.3333333333333333,\"#9c179e\"],[0.4444444444444444,\"#bd3786\"],[0.5555555555555556,\"#d8576b\"],[0.6666666666666666,\"#ed7953\"],[0.7777777777777778,\"#fb9f3a\"],[0.8888888888888888,\"#fdca26\"],[1.0,\"#f0f921\"]],\"diverging\":[[0,\"#8e0152\"],[0.1,\"#c51b7d\"],[0.2,\"#de77ae\"],[0.3,\"#f1b6da\"],[0.4,\"#fde0ef\"],[0.5,\"#f7f7f7\"],[0.6,\"#e6f5d0\"],[0.7,\"#b8e186\"],[0.8,\"#7fbc41\"],[0.9,\"#4d9221\"],[1,\"#276419\"]]},\"xaxis\":{\"gridcolor\":\"white\",\"linecolor\":\"white\",\"ticks\":\"\",\"title\":{\"standoff\":15},\"zerolinecolor\":\"white\",\"automargin\":true,\"zerolinewidth\":2},\"yaxis\":{\"gridcolor\":\"white\",\"linecolor\":\"white\",\"ticks\":\"\",\"title\":{\"standoff\":15},\"zerolinecolor\":\"white\",\"automargin\":true,\"zerolinewidth\":2},\"scene\":{\"xaxis\":{\"backgroundcolor\":\"#E5ECF6\",\"gridcolor\":\"white\",\"linecolor\":\"white\",\"showbackground\":true,\"ticks\":\"\",\"zerolinecolor\":\"white\",\"gridwidth\":2},\"yaxis\":{\"backgroundcolor\":\"#E5ECF6\",\"gridcolor\":\"white\",\"linecolor\":\"white\",\"showbackground\":true,\"ticks\":\"\",\"zerolinecolor\":\"white\",\"gridwidth\":2},\"zaxis\":{\"backgroundcolor\":\"#E5ECF6\",\"gridcolor\":\"white\",\"linecolor\":\"white\",\"showbackground\":true,\"ticks\":\"\",\"zerolinecolor\":\"white\",\"gridwidth\":2}},\"shapedefaults\":{\"line\":{\"color\":\"#2a3f5f\"}},\"annotationdefaults\":{\"arrowcolor\":\"#2a3f5f\",\"arrowhead\":0,\"arrowwidth\":1},\"geo\":{\"bgcolor\":\"white\",\"landcolor\":\"#E5ECF6\",\"subunitcolor\":\"white\",\"showland\":true,\"showlakes\":true,\"lakecolor\":\"white\"},\"title\":{\"x\":0.05},\"mapbox\":{\"style\":\"light\"}}},\"xaxis\":{\"anchor\":\"y\",\"domain\":[0.0,1.0],\"title\":{\"text\":\"regularization_strength\"}},\"yaxis\":{\"anchor\":\"x\",\"domain\":[0.0,1.0],\"title\":{\"text\":\"value\"}},\"legend\":{\"title\":{\"text\":\"variable\"},\"tracegroupgap\":0},\"title\":{\"text\":\"Training Curve for the Iris Flower Classification.\"}},                        {\"responsive\": true}                    ).then(function(){\n",
       "                            \n",
       "var gd = document.getElementById('63f11609-6e39-44a0-8de2-82ffb45f4a23');\n",
       "var x = new MutationObserver(function (mutations, observer) {{\n",
       "        var display = window.getComputedStyle(gd).display;\n",
       "        if (!display || display === 'none') {{\n",
       "            console.log([gd, 'removed!']);\n",
       "            Plotly.purge(gd);\n",
       "            observer.disconnect();\n",
       "        }}\n",
       "}});\n",
       "\n",
       "// Listen for the removal of the full notebook cells\n",
       "var notebookContainer = gd.closest('#notebook-container');\n",
       "if (notebookContainer) {{\n",
       "    x.observe(notebookContainer, {childList: true});\n",
       "}}\n",
       "\n",
       "// Listen for the clearing of the current output cell\n",
       "var outputEl = gd.closest('.output');\n",
       "if (outputEl) {{\n",
       "    x.observe(outputEl, {childList: true});\n",
       "}}\n",
       "\n",
       "                        })                };                });            </script>        </div>"
      ]
     },
     "metadata": {},
     "output_type": "display_data"
    }
   ],
   "source": [
    "training = {\n",
    "    \"regularization_strength\": np.linspace(0.01, 2, 100),\n",
    "    \"train_acc\": [],\n",
    "    \"val_acc\": []\n",
    "}\n",
    "\n",
    "for c in training[\"regularization_strength\"]:\n",
    "    svm_model = make_pipeline(\n",
    "        preprocessing, SVC(C=c, kernel=\"linear\"))\n",
    "    svm_model.fit(X_train, y_train)\n",
    "    training[\"train_acc\"].append(svm_model.score(X_train, y_train))\n",
    "    training[\"val_acc\"].append(svm_model.score(X_val, y_val))\n",
    "    \n",
    "training_df = pd.DataFrame(training).set_index(\"regularization_strength\")\n",
    "\n",
    "fig = px.line(data_frame=training_df, title=\"Training Curve for the Iris Flower Classification.\")\n",
    "fig.show()\n",
    "# ax = training_df.plot(linewidth=0.8, ax=ax, title=\"Training Curve for the Iris Flower Classification.\", ylabel=\"Accuracy Score\")"
   ]
  },
  {
   "cell_type": "code",
   "execution_count": 48,
   "id": "a377c208-db33-402a-ae23-6f8df06f7001",
   "metadata": {
    "tags": []
   },
   "outputs": [
    {
     "name": "stdout",
     "output_type": "stream",
     "text": [
      "Training Accuracy: 95.87%\n",
      " Testing Accuracy: 100.0%\n"
     ]
    }
   ],
   "source": [
    "final_model = make_pipeline(\n",
    "        preprocessing, SVC(C=0.0501, kernel=\"linear\"))\n",
    "final_model.fit(X_train, y_train)\n",
    "print(f\"Training Accuracy: {accuracy_score(y_train, final_model.predict(X_train)).round(4) * 100}%\")\n",
    "print(f\" Testing Accuracy: {accuracy_score(y_test, final_model.predict(X_test)).round(4) * 100}%\")"
   ]
  },
  {
   "cell_type": "code",
   "execution_count": null,
   "id": "a000b250-ccf9-488c-9680-2d05be80dc71",
   "metadata": {},
   "outputs": [],
   "source": []
  }
 ],
 "metadata": {
  "kernelspec": {
   "display_name": "Python 3 (ipykernel)",
   "language": "python",
   "name": "python3"
  },
  "language_info": {
   "codemirror_mode": {
    "name": "ipython",
    "version": 3
   },
   "file_extension": ".py",
   "mimetype": "text/x-python",
   "name": "python",
   "nbconvert_exporter": "python",
   "pygments_lexer": "ipython3",
   "version": "3.11.5"
  },
  "widgets": {
   "application/vnd.jupyter.widget-state+json": {
    "state": {},
    "version_major": 2,
    "version_minor": 0
   }
  }
 },
 "nbformat": 4,
 "nbformat_minor": 5
}
