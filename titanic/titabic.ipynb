{
 "cells": [
  {
   "cell_type": "markdown",
   "id": "32c10362-cbd4-4a10-9b42-36984b3b55c3",
   "metadata": {},
   "source": [
    "# **Titanic survival prediction**\n",
    "___"
   ]
  },
  {
   "cell_type": "markdown",
   "id": "ed71c251-5d22-4434-866f-7a73f41ab3b2",
   "metadata": {},
   "source": [
    "## **Setup**"
   ]
  },
  {
   "cell_type": "code",
   "execution_count": 1,
   "id": "a2c1fb97-a6e2-4358-b4bd-dcd29e88bd4b",
   "metadata": {
    "tags": []
   },
   "outputs": [
    {
     "name": "stdout",
     "output_type": "stream",
     "text": [
      "\n",
      "💯 😊 Setup successfully loaded to memory.\n"
     ]
    }
   ],
   "source": [
    "import os, sys\n",
    "import numpy as np\n",
    "import pandas as pd\n",
    "import matplotlib.pyplot as plt\n",
    "%matplotlib inline\n",
    "import seaborn as sns\n",
    "import sklearn\n",
    "\n",
    "import warnings\n",
    "\n",
    "\n",
    "parent_dir = os.path.abspath(\"..\")\n",
    "if parent_dir not in sys.path:\n",
    "    sys.path.append(parent_dir)\n",
    "    \n",
    "from _custom_func import extract_data\n",
    "\n",
    "\n",
    "sns.set_style(\"darkgrid\")\n",
    "pd.set_option(\"display.max_columns\", None)\n",
    "sklearn.set_config(display=\"diagram\")\n",
    "\n",
    "\n",
    "warnings.filterwarnings(\"ignore\")\n",
    "\n",
    "print(\"\\n💯 😊 Setup successfully loaded to memory.\")"
   ]
  },
  {
   "cell_type": "markdown",
   "id": "a8d9056c-d8f1-4fea-9648-c4baeb9b5a23",
   "metadata": {
    "tags": []
   },
   "source": [
    "## 📝 **Extract and Load the data**"
   ]
  },
  {
   "cell_type": "code",
   "execution_count": 13,
   "id": "8316f2dd-29d8-4412-b159-91c898c02acf",
   "metadata": {
    "tags": []
   },
   "outputs": [
    {
     "name": "stdout",
     "output_type": "stream",
     "text": [
      "\u001b[031mError in loading data . . .\u001b[0m\n",
      " [Errno 2] No such file or directory: './data/Titanic-Dataset.c'\n"
     ]
    }
   ],
   "source": [
    "try:\n",
    "    extract_data(\"../datasets/Titanic-Dataset.zip\")\n",
    "    df = pd.read_csv(\"./data/Titanic-Dataset.c\")\n",
    "    print(\"\\nData loaded successfully . . .\")\n",
    "except Exception as e:\n",
    "    print(\"\\033[031mError in loading data . . .\\033[0m\\n\", e)"
   ]
  },
  {
   "cell_type": "code",
   "execution_count": null,
   "id": "e6474c76-81c7-4209-a631-7bd7f865e54f",
   "metadata": {},
   "outputs": [],
   "source": []
  }
 ],
 "metadata": {
  "kernelspec": {
   "display_name": "Python 3 (ipykernel)",
   "language": "python",
   "name": "python3"
  },
  "language_info": {
   "codemirror_mode": {
    "name": "ipython",
    "version": 3
   },
   "file_extension": ".py",
   "mimetype": "text/x-python",
   "name": "python",
   "nbconvert_exporter": "python",
   "pygments_lexer": "ipython3",
   "version": "3.11.5"
  },
  "widgets": {
   "application/vnd.jupyter.widget-state+json": {
    "state": {},
    "version_major": 2,
    "version_minor": 0
   }
  }
 },
 "nbformat": 4,
 "nbformat_minor": 5
}
