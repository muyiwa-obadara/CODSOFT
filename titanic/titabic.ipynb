{
 "cells": [
  {
   "cell_type": "markdown",
   "id": "32c10362-cbd4-4a10-9b42-36984b3b55c3",
   "metadata": {},
   "source": [
    "# 🚢 **Titanic survival prediction**\n",
    "___"
   ]
  },
  {
   "cell_type": "markdown",
   "id": "e6148612-366f-4365-9c7d-75867dff280b",
   "metadata": {
    "tags": []
   },
   "source": [
    "## 📃**The Problem** ##\n",
    "This is a notebook about the famous Titanic survival prediction. This is a  supervized, classification batch lelarning problem."
   ]
  },
  {
   "cell_type": "markdown",
   "id": "4b3c5c24",
   "metadata": {},
   "source": [
    "⚙ **Setup**"
   ]
  },
  {
   "cell_type": "code",
   "execution_count": 56,
   "id": "a2c1fb97-a6e2-4358-b4bd-dcd29e88bd4b",
   "metadata": {
    "tags": []
   },
   "outputs": [
    {
     "name": "stdout",
     "output_type": "stream",
     "text": [
      "\n",
      "💯 😊 Setup successfully loaded to memory.\n"
     ]
    }
   ],
   "source": [
    "import os, sys\n",
    "import numpy as np\n",
    "import pandas as pd\n",
    "import matplotlib.pyplot as plt\n",
    "%matplotlib inline\n",
    "import seaborn as sns\n",
    "\n",
    "import sklearn\n",
    "from sklearn.model_selection import StratifiedShuffleSplit\n",
    "from sklearn.impute import SimpleImputer\n",
    "from sklearn.preprocessing import StandardScaler\n",
    "from sklearn.pipeline import Pipeline\n",
    "\n",
    "import warnings\n",
    "\n",
    "\n",
    "parent_dir = os.path.abspath(\"..\")\n",
    "if parent_dir not in sys.path:\n",
    "    sys.path.append(parent_dir)\n",
    "    \n",
    "from _custom_func import extract_data\n",
    "\n",
    "\n",
    "sns.set_style(\"darkgrid\")\n",
    "pd.set_option(\"display.max_columns\", None)\n",
    "sklearn.set_config(display=\"diagram\")\n",
    "\n",
    "\n",
    "warnings.filterwarnings(\"ignore\")\n",
    "\n",
    "print(\"\\n💯 😊 Setup successfully loaded to memory.\")"
   ]
  },
  {
   "cell_type": "markdown",
   "id": "a8d9056c-d8f1-4fea-9648-c4baeb9b5a23",
   "metadata": {
    "tags": []
   },
   "source": [
    "## 📝 **Get the data**\n",
    "\n",
    "The data is the famouus titanic dataset, downloaded from 👉 [here](https://kagggke.com/)."
   ]
  },
  {
   "cell_type": "code",
   "execution_count": 2,
   "id": "8316f2dd-29d8-4412-b159-91c898c02acf",
   "metadata": {
    "tags": []
   },
   "outputs": [
    {
     "name": "stdout",
     "output_type": "stream",
     "text": [
      "\n",
      "Data loaded successfully . . .\n",
      "Display the data with : \u001b[035mdf.head()\u001b[0m\n"
     ]
    }
   ],
   "source": [
    "try:\n",
    "    extract_data(\"../datasets/Titanic-Dataset.zip\")\n",
    "    df = pd.read_csv(\"./data/Titanic-Dataset.csv\")\n",
    "    print(\"\\nData loaded successfully . . .\")\n",
    "    print(\"Display the data with : \\033[035mdf.head()\\033[0m\")\n",
    "except Exception as e:\n",
    "    print(\"\\033[031mError in loading data . . .\\033[0m\\n\", e)"
   ]
  },
  {
   "cell_type": "code",
   "execution_count": 3,
   "id": "56833538-46b9-43e8-a530-9bd629200e00",
   "metadata": {
    "tags": []
   },
   "outputs": [
    {
     "data": {
      "text/html": [
       "<div>\n",
       "<style scoped>\n",
       "    .dataframe tbody tr th:only-of-type {\n",
       "        vertical-align: middle;\n",
       "    }\n",
       "\n",
       "    .dataframe tbody tr th {\n",
       "        vertical-align: top;\n",
       "    }\n",
       "\n",
       "    .dataframe thead th {\n",
       "        text-align: right;\n",
       "    }\n",
       "</style>\n",
       "<table border=\"1\" class=\"dataframe\">\n",
       "  <thead>\n",
       "    <tr style=\"text-align: right;\">\n",
       "      <th></th>\n",
       "      <th>PassengerId</th>\n",
       "      <th>Survived</th>\n",
       "      <th>Pclass</th>\n",
       "      <th>Name</th>\n",
       "      <th>Sex</th>\n",
       "      <th>Age</th>\n",
       "      <th>SibSp</th>\n",
       "      <th>Parch</th>\n",
       "      <th>Ticket</th>\n",
       "      <th>Fare</th>\n",
       "      <th>Cabin</th>\n",
       "      <th>Embarked</th>\n",
       "    </tr>\n",
       "  </thead>\n",
       "  <tbody>\n",
       "    <tr>\n",
       "      <th>0</th>\n",
       "      <td>1</td>\n",
       "      <td>0</td>\n",
       "      <td>3</td>\n",
       "      <td>Braund, Mr. Owen Harris</td>\n",
       "      <td>male</td>\n",
       "      <td>22.0</td>\n",
       "      <td>1</td>\n",
       "      <td>0</td>\n",
       "      <td>A/5 21171</td>\n",
       "      <td>7.2500</td>\n",
       "      <td>NaN</td>\n",
       "      <td>S</td>\n",
       "    </tr>\n",
       "    <tr>\n",
       "      <th>1</th>\n",
       "      <td>2</td>\n",
       "      <td>1</td>\n",
       "      <td>1</td>\n",
       "      <td>Cumings, Mrs. John Bradley (Florence Briggs Th...</td>\n",
       "      <td>female</td>\n",
       "      <td>38.0</td>\n",
       "      <td>1</td>\n",
       "      <td>0</td>\n",
       "      <td>PC 17599</td>\n",
       "      <td>71.2833</td>\n",
       "      <td>C85</td>\n",
       "      <td>C</td>\n",
       "    </tr>\n",
       "    <tr>\n",
       "      <th>2</th>\n",
       "      <td>3</td>\n",
       "      <td>1</td>\n",
       "      <td>3</td>\n",
       "      <td>Heikkinen, Miss. Laina</td>\n",
       "      <td>female</td>\n",
       "      <td>26.0</td>\n",
       "      <td>0</td>\n",
       "      <td>0</td>\n",
       "      <td>STON/O2. 3101282</td>\n",
       "      <td>7.9250</td>\n",
       "      <td>NaN</td>\n",
       "      <td>S</td>\n",
       "    </tr>\n",
       "    <tr>\n",
       "      <th>3</th>\n",
       "      <td>4</td>\n",
       "      <td>1</td>\n",
       "      <td>1</td>\n",
       "      <td>Futrelle, Mrs. Jacques Heath (Lily May Peel)</td>\n",
       "      <td>female</td>\n",
       "      <td>35.0</td>\n",
       "      <td>1</td>\n",
       "      <td>0</td>\n",
       "      <td>113803</td>\n",
       "      <td>53.1000</td>\n",
       "      <td>C123</td>\n",
       "      <td>S</td>\n",
       "    </tr>\n",
       "    <tr>\n",
       "      <th>4</th>\n",
       "      <td>5</td>\n",
       "      <td>0</td>\n",
       "      <td>3</td>\n",
       "      <td>Allen, Mr. William Henry</td>\n",
       "      <td>male</td>\n",
       "      <td>35.0</td>\n",
       "      <td>0</td>\n",
       "      <td>0</td>\n",
       "      <td>373450</td>\n",
       "      <td>8.0500</td>\n",
       "      <td>NaN</td>\n",
       "      <td>S</td>\n",
       "    </tr>\n",
       "  </tbody>\n",
       "</table>\n",
       "</div>"
      ],
      "text/plain": [
       "   PassengerId  Survived  Pclass  \\\n",
       "0            1         0       3   \n",
       "1            2         1       1   \n",
       "2            3         1       3   \n",
       "3            4         1       1   \n",
       "4            5         0       3   \n",
       "\n",
       "                                                Name     Sex   Age  SibSp  \\\n",
       "0                            Braund, Mr. Owen Harris    male  22.0      1   \n",
       "1  Cumings, Mrs. John Bradley (Florence Briggs Th...  female  38.0      1   \n",
       "2                             Heikkinen, Miss. Laina  female  26.0      0   \n",
       "3       Futrelle, Mrs. Jacques Heath (Lily May Peel)  female  35.0      1   \n",
       "4                           Allen, Mr. William Henry    male  35.0      0   \n",
       "\n",
       "   Parch            Ticket     Fare Cabin Embarked  \n",
       "0      0         A/5 21171   7.2500   NaN        S  \n",
       "1      0          PC 17599  71.2833   C85        C  \n",
       "2      0  STON/O2. 3101282   7.9250   NaN        S  \n",
       "3      0            113803  53.1000  C123        S  \n",
       "4      0            373450   8.0500   NaN        S  "
      ]
     },
     "execution_count": 3,
     "metadata": {},
     "output_type": "execute_result"
    }
   ],
   "source": [
    "df.head()"
   ]
  },
  {
   "cell_type": "markdown",
   "id": "548bd43e-c4b6-4dd9-ab9c-7a2e2724da0a",
   "metadata": {},
   "source": [
    "## 🔎 **Explore the data**\n",
    "\n",
    "Exploring the data through summary statistics and visualizations to gain insights."
   ]
  },
  {
   "cell_type": "code",
   "execution_count": 4,
   "id": "78e93e9a-901a-4ebc-b515-d1a82f40e7b8",
   "metadata": {
    "tags": []
   },
   "outputs": [
    {
     "name": "stdout",
     "output_type": "stream",
     "text": [
      "<class 'pandas.core.frame.DataFrame'>\n",
      "RangeIndex: 891 entries, 0 to 890\n",
      "Data columns (total 12 columns):\n",
      " #   Column       Non-Null Count  Dtype  \n",
      "---  ------       --------------  -----  \n",
      " 0   PassengerId  891 non-null    int64  \n",
      " 1   Survived     891 non-null    int64  \n",
      " 2   Pclass       891 non-null    int64  \n",
      " 3   Name         891 non-null    object \n",
      " 4   Sex          891 non-null    object \n",
      " 5   Age          714 non-null    float64\n",
      " 6   SibSp        891 non-null    int64  \n",
      " 7   Parch        891 non-null    int64  \n",
      " 8   Ticket       891 non-null    object \n",
      " 9   Fare         891 non-null    float64\n",
      " 10  Cabin        204 non-null    object \n",
      " 11  Embarked     889 non-null    object \n",
      "dtypes: float64(2), int64(5), object(5)\n",
      "memory usage: 83.7+ KB\n"
     ]
    }
   ],
   "source": [
    "df.info()"
   ]
  },
  {
   "cell_type": "markdown",
   "id": "fd27d2b2-269b-40f9-b35c-38cce55c9d87",
   "metadata": {},
   "source": [
    "The `Age` and `Cabin` attributes were missinng for some passengers."
   ]
  },
  {
   "cell_type": "markdown",
   "id": "1f28c62c-54e8-4837-8e4e-802c0dc6a092",
   "metadata": {
    "tags": []
   },
   "source": [
    "**Get summary statistics for the neccessary attrributes.**"
   ]
  },
  {
   "cell_type": "code",
   "execution_count": 5,
   "id": "8d8b571a-1d28-4061-b4d6-8d6616bf1e48",
   "metadata": {
    "tags": []
   },
   "outputs": [
    {
     "data": {
      "text/html": [
       "<div>\n",
       "<style scoped>\n",
       "    .dataframe tbody tr th:only-of-type {\n",
       "        vertical-align: middle;\n",
       "    }\n",
       "\n",
       "    .dataframe tbody tr th {\n",
       "        vertical-align: top;\n",
       "    }\n",
       "\n",
       "    .dataframe thead th {\n",
       "        text-align: right;\n",
       "    }\n",
       "</style>\n",
       "<table border=\"1\" class=\"dataframe\">\n",
       "  <thead>\n",
       "    <tr style=\"text-align: right;\">\n",
       "      <th></th>\n",
       "      <th>PassengerId</th>\n",
       "      <th>Survived</th>\n",
       "      <th>Pclass</th>\n",
       "      <th>Age</th>\n",
       "      <th>SibSp</th>\n",
       "      <th>Parch</th>\n",
       "      <th>Fare</th>\n",
       "    </tr>\n",
       "  </thead>\n",
       "  <tbody>\n",
       "    <tr>\n",
       "      <th>count</th>\n",
       "      <td>891.000000</td>\n",
       "      <td>891.000000</td>\n",
       "      <td>891.000000</td>\n",
       "      <td>714.000000</td>\n",
       "      <td>891.000000</td>\n",
       "      <td>891.000000</td>\n",
       "      <td>891.000000</td>\n",
       "    </tr>\n",
       "    <tr>\n",
       "      <th>mean</th>\n",
       "      <td>446.000000</td>\n",
       "      <td>0.383838</td>\n",
       "      <td>2.308642</td>\n",
       "      <td>29.699118</td>\n",
       "      <td>0.523008</td>\n",
       "      <td>0.381594</td>\n",
       "      <td>32.204208</td>\n",
       "    </tr>\n",
       "    <tr>\n",
       "      <th>std</th>\n",
       "      <td>257.353842</td>\n",
       "      <td>0.486592</td>\n",
       "      <td>0.836071</td>\n",
       "      <td>14.526497</td>\n",
       "      <td>1.102743</td>\n",
       "      <td>0.806057</td>\n",
       "      <td>49.693429</td>\n",
       "    </tr>\n",
       "    <tr>\n",
       "      <th>min</th>\n",
       "      <td>1.000000</td>\n",
       "      <td>0.000000</td>\n",
       "      <td>1.000000</td>\n",
       "      <td>0.420000</td>\n",
       "      <td>0.000000</td>\n",
       "      <td>0.000000</td>\n",
       "      <td>0.000000</td>\n",
       "    </tr>\n",
       "    <tr>\n",
       "      <th>25%</th>\n",
       "      <td>223.500000</td>\n",
       "      <td>0.000000</td>\n",
       "      <td>2.000000</td>\n",
       "      <td>20.125000</td>\n",
       "      <td>0.000000</td>\n",
       "      <td>0.000000</td>\n",
       "      <td>7.910400</td>\n",
       "    </tr>\n",
       "    <tr>\n",
       "      <th>50%</th>\n",
       "      <td>446.000000</td>\n",
       "      <td>0.000000</td>\n",
       "      <td>3.000000</td>\n",
       "      <td>28.000000</td>\n",
       "      <td>0.000000</td>\n",
       "      <td>0.000000</td>\n",
       "      <td>14.454200</td>\n",
       "    </tr>\n",
       "    <tr>\n",
       "      <th>75%</th>\n",
       "      <td>668.500000</td>\n",
       "      <td>1.000000</td>\n",
       "      <td>3.000000</td>\n",
       "      <td>38.000000</td>\n",
       "      <td>1.000000</td>\n",
       "      <td>0.000000</td>\n",
       "      <td>31.000000</td>\n",
       "    </tr>\n",
       "    <tr>\n",
       "      <th>max</th>\n",
       "      <td>891.000000</td>\n",
       "      <td>1.000000</td>\n",
       "      <td>3.000000</td>\n",
       "      <td>80.000000</td>\n",
       "      <td>8.000000</td>\n",
       "      <td>6.000000</td>\n",
       "      <td>512.329200</td>\n",
       "    </tr>\n",
       "  </tbody>\n",
       "</table>\n",
       "</div>"
      ],
      "text/plain": [
       "       PassengerId    Survived      Pclass         Age       SibSp  \\\n",
       "count   891.000000  891.000000  891.000000  714.000000  891.000000   \n",
       "mean    446.000000    0.383838    2.308642   29.699118    0.523008   \n",
       "std     257.353842    0.486592    0.836071   14.526497    1.102743   \n",
       "min       1.000000    0.000000    1.000000    0.420000    0.000000   \n",
       "25%     223.500000    0.000000    2.000000   20.125000    0.000000   \n",
       "50%     446.000000    0.000000    3.000000   28.000000    0.000000   \n",
       "75%     668.500000    1.000000    3.000000   38.000000    1.000000   \n",
       "max     891.000000    1.000000    3.000000   80.000000    8.000000   \n",
       "\n",
       "            Parch        Fare  \n",
       "count  891.000000  891.000000  \n",
       "mean     0.381594   32.204208  \n",
       "std      0.806057   49.693429  \n",
       "min      0.000000    0.000000  \n",
       "25%      0.000000    7.910400  \n",
       "50%      0.000000   14.454200  \n",
       "75%      0.000000   31.000000  \n",
       "max      6.000000  512.329200  "
      ]
     },
     "execution_count": 5,
     "metadata": {},
     "output_type": "execute_result"
    }
   ],
   "source": [
    "df_num = df.select_dtypes(include=np.number)\n",
    "df_num.describe()"
   ]
  },
  {
   "cell_type": "markdown",
   "id": "c76c82a7-0be5-4658-96a9-07d583ff8338",
   "metadata": {},
   "source": [
    "The median age is $28$, meaning that half of the total passengers have ages that are less than or equal to $28$. The maximum age is $80$, meaning that there are children, youtg and adults in the ship. The mean age is $29$, that is most passengers are youths. The age attribute was not copletely recorded."
   ]
  },
  {
   "cell_type": "code",
   "execution_count": 6,
   "id": "a4c566d4-f23e-49c9-89cb-05260ea90a29",
   "metadata": {
    "tags": []
   },
   "outputs": [
    {
     "data": {
      "image/png": "[encoded data removed]",
      "text/plain": [
       "<Figure size 800x800 with 9 Axes>"
      ]
     },
     "metadata": {},
     "output_type": "display_data"
    }
   ],
   "source": [
    "ax = df_num.hist(bins=20, figsize=(8,8))\n",
    "plt.show()"
   ]
  },
  {
   "cell_type": "code",
   "execution_count": 7,
   "id": "13a615fc-03b7-4c66-8ce1-91d3c1ba2c31",
   "metadata": {
    "tags": []
   },
   "outputs": [
    {
     "data": {
      "image/png": "[encoded data removed]",
      "text/plain": [
       "<Figure size 640x480 with 1 Axes>"
      ]
     },
     "metadata": {},
     "output_type": "display_data"
    }
   ],
   "source": [
    "ax = df.Sex.value_counts().plot.bar()\n",
    "ax.set_title(\"Sex Distributioin\")\n",
    "ax.yaxis.set_label_text(\"Counts\")\n",
    "plt.show()"
   ]
  },
  {
   "cell_type": "markdown",
   "id": "dd343e9e-712b-44dd-b7e7-842759076541",
   "metadata": {},
   "source": [
    "- There are more male passengers than female passengers.\n",
    "- The proportion of passengers that survived is less than 50%\n",
    "- Most of the passengers have no siblings, spouses, parents or children.\n",
    "- The age of the passengers is approximately normal, that is most of them have ages between 25 and 35.\n",
    "- There are no outliers in the dataset."
   ]
  },
  {
   "cell_type": "markdown",
   "id": "2bfca73f-33fb-4178-962b-83afcf352147",
   "metadata": {},
   "source": [
    "**Correllations**\n",
    "\n",
    "To see how each variable correlates with the other."
   ]
  },
  {
   "cell_type": "code",
   "execution_count": 8,
   "id": "80bf4043-e2a8-42eb-aec2-b29e875f2a05",
   "metadata": {
    "tags": []
   },
   "outputs": [
    {
     "data": {
      "image/png": "[encoded data removed]",
      "text/plain": [
       "<Figure size 640x480 with 2 Axes>"
      ]
     },
     "metadata": {},
     "output_type": "display_data"
    }
   ],
   "source": [
    "correllation_matrix = df_num.corr()\n",
    "ax = sns.heatmap(correllation_matrix)\n",
    "cor_matrix_titile = ax.set_title(\"Correllations of the numerical variables in\\nthe Titanic dataset.\")"
   ]
  },
  {
   "cell_type": "markdown",
   "id": "48af3815-0c16-4055-924f-151ce0443f10",
   "metadata": {},
   "source": [
    "It is seen that the number of simblingsspouses aboard is proportional to the number of parents/chidren aboard. Hopefully, there are many instances where the whole extended family was aboard. Also, the fare is correllated with the survival status. It might be that the first class passengers had a high chance of being survived, and this is evident from the correlation between Pclass and fare. A high fare means a lower Pclass."
   ]
  },
  {
   "cell_type": "markdown",
   "id": "41e665f3-a7c7-4bd9-911a-b46ffcff69f0",
   "metadata": {
    "tags": []
   },
   "source": [
    "**Gender Ditribution**\n",
    "\n",
    "To see which gender survived the most."
   ]
  },
  {
   "cell_type": "code",
   "execution_count": 9,
   "id": "2c612e5f-6350-4638-b606-ba6de82e75a8",
   "metadata": {
    "tags": []
   },
   "outputs": [],
   "source": [
    "df_male = df[df[\"Sex\"] == \"male\"]\n",
    "df_female = df[df[\"Sex\"] == \"female\"]"
   ]
  },
  {
   "cell_type": "code",
   "execution_count": 10,
   "id": "98522f7f-8da5-4406-bcf7-0f8d97d3f772",
   "metadata": {
    "tags": []
   },
   "outputs": [],
   "source": [
    "total_survuved_male = (df_male.Survived == 1).sum()\n",
    "total_survuved_female = (df_female.Survived == 1).sum()\n",
    "\n",
    "total_survuved = (df.Survived == 1).sum()"
   ]
  },
  {
   "cell_type": "code",
   "execution_count": 11,
   "id": "24e61dba-814a-4262-8a7f-6e2ac72cd580",
   "metadata": {
    "tags": []
   },
   "outputs": [],
   "source": [
    "summary_sex = {\n",
    "    \"Sex\": [\"male\", \"female\"],\n",
    "    \"total\": [len(df_male), len(df_female)],\n",
    "    \"total_survived\": [total_survuved_male, total_survuved_female],\n",
    "    \"% survived per gender\": [100*total_survuved_male/len(df_male), 100*total_survuved_female/len(df_female)],\n",
    "    \"% survived in all passenger\": [100*total_survuved_male/len(df), 100*total_survuved_female/len(df)],\n",
    "    \"% survived in survived\": [100*total_survuved_male/total_survuved, 100*total_survuved_female/total_survuved],\n",
    "}"
   ]
  },
  {
   "cell_type": "markdown",
   "id": "5f38d86d-4e29-487f-a30c-d72391fde3fa",
   "metadata": {},
   "source": [
    "<div id=\"sex_eda\"></div>"
   ]
  },
  {
   "cell_type": "code",
   "execution_count": 12,
   "id": "9088bd4d-ca0e-448e-8eb5-db53f1d9d3c5",
   "metadata": {
    "tags": []
   },
   "outputs": [
    {
     "data": {
      "text/html": [
       "<div>\n",
       "<style scoped>\n",
       "    .dataframe tbody tr th:only-of-type {\n",
       "        vertical-align: middle;\n",
       "    }\n",
       "\n",
       "    .dataframe tbody tr th {\n",
       "        vertical-align: top;\n",
       "    }\n",
       "\n",
       "    .dataframe thead th {\n",
       "        text-align: right;\n",
       "    }\n",
       "</style>\n",
       "<table border=\"1\" class=\"dataframe\">\n",
       "  <thead>\n",
       "    <tr style=\"text-align: right;\">\n",
       "      <th></th>\n",
       "      <th>Sex</th>\n",
       "      <th>total</th>\n",
       "      <th>total_survived</th>\n",
       "      <th>% survived per gender</th>\n",
       "      <th>% survived in all passenger</th>\n",
       "      <th>% survived in survived</th>\n",
       "    </tr>\n",
       "  </thead>\n",
       "  <tbody>\n",
       "    <tr>\n",
       "      <th>0</th>\n",
       "      <td>male</td>\n",
       "      <td>577</td>\n",
       "      <td>109</td>\n",
       "      <td>18.890815</td>\n",
       "      <td>12.233446</td>\n",
       "      <td>31.871345</td>\n",
       "    </tr>\n",
       "    <tr>\n",
       "      <th>1</th>\n",
       "      <td>female</td>\n",
       "      <td>314</td>\n",
       "      <td>233</td>\n",
       "      <td>74.203822</td>\n",
       "      <td>26.150393</td>\n",
       "      <td>68.128655</td>\n",
       "    </tr>\n",
       "  </tbody>\n",
       "</table>\n",
       "</div>"
      ],
      "text/plain": [
       "      Sex  total  total_survived  % survived per gender  \\\n",
       "0    male    577             109              18.890815   \n",
       "1  female    314             233              74.203822   \n",
       "\n",
       "   % survived in all passenger  % survived in survived  \n",
       "0                    12.233446               31.871345  \n",
       "1                    26.150393               68.128655  "
      ]
     },
     "execution_count": 12,
     "metadata": {},
     "output_type": "execute_result"
    }
   ],
   "source": [
    "summary_sex_table = pd.DataFrame(summary_sex)\n",
    "summary_sex_table"
   ]
  },
  {
   "cell_type": "markdown",
   "id": "5677897b-8f9f-49ab-ad34-e0e9683dd255",
   "metadata": {},
   "source": [
    "Interestingly, more female survived the harvoc that the male. In fact, 68% of those that survived are females."
   ]
  },
  {
   "cell_type": "markdown",
   "id": "1d783b74-d9db-4057-afa4-7c72aebea9ef",
   "metadata": {},
   "source": [
    "## 🛠 Prepare the data for machine learning"
   ]
  },
  {
   "cell_type": "markdown",
   "id": "921ce919-c4f1-4985-8019-1be24150e1ae",
   "metadata": {},
   "source": [
    "The data contains the features and the target, so these needs to be separated. The data also needs to be splitted into training set and test set. Sinnce the Sex attribute is very important (evident from the [eda](#sex_eda) 👈),  the splitting will carrid out using Stratifoed Sampling.\n",
    "\n",
    "Some features have no effect machine learning algorithms and model-- PasengerId, Ticket, Name. These features will be dropped.\n",
    "\n",
    "Some features also contains missinng data--Age and Cabin.\n",
    "\n",
    "The missinng `Cabin` attribute will be filled with most frequent and the age will be filled with the median age (Evident from the shape of the age distribution).\n",
    "\n",
    "The features in the dataset are in different scale and machine learning systems do not perform well with these, so the features will be scaled using Standard Scaler from scikit-learn.\n",
    "\n",
    "___\n",
    "*Working on a copy of the dataset*"
   ]
  },
  {
   "cell_type": "markdown",
   "id": "0d1b68ab-44cc-4c75-85d8-4db7b9d7ad11",
   "metadata": {},
   "source": [
    "### ✂ Split the data"
   ]
  },
  {
   "cell_type": "code",
   "execution_count": 16,
   "id": "16de6deb-9cb0-4aef-9722-50794e71fc40",
   "metadata": {
    "tags": []
   },
   "outputs": [],
   "source": [
    "splitter = StratifiedShuffleSplit(n_splits=1, test_size=0.2, random_state=0)\n",
    "for train_index, test_index in splitter.split(df_titanic, df_titanic[\"Sex\"]):\n",
    "    train_set = df_titanic.loc[train_index]\n",
    "    test_set = df_titanic.loc[test_index]"
   ]
  },
  {
   "cell_type": "markdown",
   "id": "c81deb94-b66d-4795-9c7d-89ce69124654",
   "metadata": {
    "tags": []
   },
   "source": [
    "☑ **Verify that the split was performed as expected**"
   ]
  },
  {
   "cell_type": "code",
   "execution_count": 48,
   "id": "3fbbfdc4-dc32-4f22-b7fc-9ddb79419952",
   "metadata": {
    "tags": []
   },
   "outputs": [
    {
     "data": {
      "image/png": "[encoded data removed]",
      "text/plain": [
       "<Figure size 640x480 with 1 Axes>"
      ]
     },
     "metadata": {},
     "output_type": "display_data"
    }
   ],
   "source": [
    "ax = pd.concat([\n",
    "        pd.DataFrame(train_set.Sex.value_counts()),\n",
    "        pd.DataFrame(test_set.Sex.value_counts())], axis=1).plot.bar()\n",
    "ax.legend([\"Train set\", \"Test set\"])\n",
    "ax.yaxis.set_label_text(\"Count\")\n",
    "ax.set_title(\"Proportion of Sex in the train set and the test set.\")\n",
    "ax.text(0.1, 300, \"The passengers are spread in the right proportion\\nbased on sex across the train\\nset and test set.\",\n",
    "       bbox={\"color\": \"#ef8912\", \"alpha\": 0.4});"
   ]
  },
  {
   "cell_type": "markdown",
   "id": "b6d993ba-0123-4652-9478-1c46e6eaf45c",
   "metadata": {},
   "source": [
    "### ❌ Remove ineffective features from the dataset\n",
    "- Name\n",
    "- Ticket\n",
    "- PassengerId"
   ]
  },
  {
   "cell_type": "code",
   "execution_count": 55,
   "id": "97df7d7e-9e7f-49fe-a01a-4e5b2f80dded",
   "metadata": {
    "tags": []
   },
   "outputs": [],
   "source": [
    "train_set.drop([\"PassengerId\", \"Name\", \"Sex\"], axis=1, inplace=True)\n",
    "test_set.drop([\"PassengerId\", \"Name\", \"Sex\"], axis=1, inplace=True)"
   ]
  },
  {
   "cell_type": "markdown",
   "id": "3a6fb008-f995-47bc-9ae5-6ab558d7eddb",
   "metadata": {},
   "source": [
    "### 💽 Data Preprocessing"
   ]
  },
  {
   "cell_type": "code",
   "execution_count": null,
   "id": "531f1635-ca12-4c66-a800-39067d646591",
   "metadata": {},
   "outputs": [],
   "source": []
  }
 ],
 "metadata": {
  "kernelspec": {
   "display_name": "Python 3 (ipykernel)",
   "language": "python",
   "name": "python3"
  },
  "language_info": {
   "codemirror_mode": {
    "name": "ipython",
    "version": 3
   },
   "file_extension": ".py",
   "mimetype": "text/x-python",
   "name": "python",
   "nbconvert_exporter": "python",
   "pygments_lexer": "ipython3",
   "version": "3.11.5"
  },
  "widgets": {
   "application/vnd.jupyter.widget-state+json": {
    "state": {},
    "version_major": 2,
    "version_minor": 0
   }
  }
 },
 "nbformat": 4,
 "nbformat_minor": 5
}
