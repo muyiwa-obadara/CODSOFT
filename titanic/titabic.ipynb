{
 "cells": [
  {
   "cell_type": "markdown",
   "id": "32c10362-cbd4-4a10-9b42-36984b3b55c3",
   "metadata": {},
   "source": [
    "# **Titanic survival prediction**\n",
    "___"
   ]
  },
  {
   "cell_type": "markdown",
   "id": "ed71c251-5d22-4434-866f-7a73f41ab3b2",
   "metadata": {},
   "source": [
    "## **Setup**"
   ]
  },
  {
   "cell_type": "code",
   "execution_count": 4,
   "id": "a2c1fb97-a6e2-4358-b4bd-dcd29e88bd4b",
   "metadata": {
    "tags": []
   },
   "outputs": [
    {
     "name": "stdout",
     "output_type": "stream",
     "text": [
      "\n",
      "💯 😊 Setup successfully loaded to memory.\n"
     ]
    }
   ],
   "source": [
    "import numpy as np\n",
    "import pandas as pd\n",
    "import matplotlib.pyplot as plt\n",
    "%matplotlib inline\n",
    "import seaborn as sns\n",
    "import sklearn\n",
    "\n",
    "import warnings\n",
    "\n",
    "sns.set_style(\"darkgrid\")\n",
    "pd.set_option(\"display.max_columns\", None)\n",
    "sklearn.set_config(display=\"diagram\")\n",
    "\n",
    "warnings.filterwarnings(\"ignore\")\n",
    "\n",
    "print(\"\\n💯 😊 Setup successfully loaded to memory.\")"
   ]
  },
  {
   "cell_type": "markdown",
   "id": "3f9fe336-8feb-4239-8457-8cf3df4745cc",
   "metadata": {},
   "source": []
  }
 ],
 "metadata": {
  "kernelspec": {
   "display_name": "Python 3 (ipykernel)",
   "language": "python",
   "name": "python3"
  },
  "language_info": {
   "codemirror_mode": {
    "name": "ipython",
    "version": 3
   },
   "file_extension": ".py",
   "mimetype": "text/x-python",
   "name": "python",
   "nbconvert_exporter": "python",
   "pygments_lexer": "ipython3",
   "version": "3.11.5"
  },
  "widgets": {
   "application/vnd.jupyter.widget-state+json": {
    "state": {},
    "version_major": 2,
    "version_minor": 0
   }
  }
 },
 "nbformat": 4,
 "nbformat_minor": 5
}
